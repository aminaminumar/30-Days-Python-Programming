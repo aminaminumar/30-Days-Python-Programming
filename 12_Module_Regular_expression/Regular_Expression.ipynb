{
 "cells": [
  {
   "cell_type": "markdown",
   "metadata": {},
   "source": [
    "## Exercises: Level 1\n",
    "1. What is the most frequent word in the following paragraph?\n",
    "       paragraph = 'I love teaching. If you do not love teaching what else can you love. I love Python if you do not love something which can give you all the capabilities to develop an application what else can you love."
   ]
  },
  {
   "cell_type": "code",
   "execution_count": 2,
   "metadata": {},
   "outputs": [
    {
     "name": "stdout",
     "output_type": "stream",
     "text": [
      "[(6, 'love'), (5, 'you'), (3, 'can'), (2, 'what'), (2, 'teaching'), (2, 'not'), (2, 'else'), (2, 'do'), (2, 'I'), (1, 'which'), (1, 'to'), (1, 'the'), (1, 'something'), (1, 'if'), (1, 'give'), (1, 'develop'), (1, 'capabilities'), (1, 'application'), (1, 'an'), (1, 'all'), (1, 'Python'), (1, 'If')]\n"
     ]
    }
   ],
   "source": [
    "import re\n",
    "paragraph = \"I love teaching. If you do not love teaching what else can you love.I love Python if you do not love something which can give you all the capabilities to develop an application what else can you love.\"\n",
    "pattern = r'\\b\\w+\\b' #word pattern\n",
    "\n",
    "#find all maches in the paragrap \n",
    "maches = re.findall( pattern, paragraph, re.I)\n",
    "\n",
    "#store each word as a set\n",
    "unique_word = set(maches)\n",
    "\n",
    "#count the occurence of each word\n",
    "word_count = [(maches.count(word), word) for word in unique_word]\n",
    "\n",
    "#sort it in decending order\n",
    "word_count.sort(reverse=True)\n",
    "\n",
    "print(word_count)"
   ]
  },
  {
   "cell_type": "markdown",
   "metadata": {},
   "source": [
    "2. The position of some particles on the horizontal x-axis are -12, -4, -3 and -1 in the negative direction, 0 at origin, 4 and 8 in the positive direction. Extract these numbers from this whole text and find the distance between the two furthest particles."
   ]
  },
  {
   "cell_type": "code",
   "execution_count": 3,
   "metadata": {},
   "outputs": [
    {
     "name": "stdout",
     "output_type": "stream",
     "text": [
      "Points: ['-12', '-4', '-3', '-1', '0', '4', '8']\n",
      "sorted points: [-12, -4, -3, -1, 0, 4, 8]\n",
      "Distance: 20\n"
     ]
    }
   ],
   "source": [
    "txt = 'The position of some particles on the horizontal x-axis are -12, -4, -3 and -1 in the negative direction, 0 at origin, 4 and 8 in the positive direction. Extract these numbers from this whole text and find the distance between the two furthest particles.'\n",
    "\n",
    "number_pattern = r'-?\\d+'\n",
    "\n",
    "#findall the numbers\n",
    "points = re.findall(number_pattern, txt)\n",
    "\n",
    "#convert the points to int\n",
    "sorted_points = list(map(int, points))\n",
    "print(f\"Points: {points}\")\n",
    "print(f\"sorted points: {sorted_points}\")\n",
    "\n",
    "#find the distance absolute point to remve the negative\n",
    "distance = abs(sorted_points[0] - sorted_points[-1])\n",
    "\n",
    "print(f'Distance: {distance}')"
   ]
  },
  {
   "cell_type": "markdown",
   "metadata": {},
   "source": [
    "## Exercises: Level 2\n",
    "1. Write a pattern which identifies if a string is a valid python variable\n",
    "\n",
    "is_valid_variable('first_name') # True\n",
    "is_valid_variable('first-name') # False\n",
    "is_valid_variable('1first_name') # False\n",
    "is_valid_variable('firstname') # True"
   ]
  },
  {
   "cell_type": "code",
   "execution_count": 45,
   "metadata": {},
   "outputs": [
    {
     "name": "stdout",
     "output_type": "stream",
     "text": [
      "True\n",
      "False\n",
      "False\n",
      "True\n"
     ]
    }
   ],
   "source": [
    "def is_valid_variable_name(name):\n",
    "    valid_variable_pattern = r'^[a-zA-Z_][a-zA_Z0-9]*$'\n",
    "    if re.match(valid_variable_pattern, name):\n",
    "        return True\n",
    "    else:\n",
    "        return False\n",
    "\n",
    "print(is_valid_variable_name('first_name')) # True\n",
    "print(is_valid_variable_name('first-name')) # False\n",
    "print(is_valid_variable_name('1first_name')) # False\n",
    "print(is_valid_variable_name('firstname')) # True"
   ]
  },
  {
   "cell_type": "markdown",
   "metadata": {},
   "source": [
    "## Exercises: Level 3\n",
    "1. Clean the following text. After cleaning, count three most frequent words in the string.\n",
    "\n",
    "sentence = '''%I $am@% a %tea@cher%, &and& I lo%#ve %tea@ching%;. There $is nothing; &as& mo@re rewarding as educa@ting &and& @emp%o@wering peo@ple. ;I found tea@ching m%o@re interesting tha@n any other %jo@bs. %Do@es thi%s mo@tivate yo@u to be a tea@cher!?'''\n",
    "\n",
    "2. print(clean_text(sentence));\n",
    "I am a teacher and I love teaching There is nothing as more rewarding as educating and empowering people I found teaching more interesting than any other jobs Does this motivate you to be a teacher\n",
    "3. print(most_frequent_words(cleaned_text)) # [(3, 'I'), (2, 'teaching'), (2, 'teacher')]\n"
   ]
  },
  {
   "cell_type": "code",
   "execution_count": 4,
   "metadata": {},
   "outputs": [
    {
     "name": "stdout",
     "output_type": "stream",
     "text": [
      "I am a teacher, and I love teaching There is nothing as more rewarding as educating and empowering people I found teaching more interesting than any other jobs Does this motivate you to be a teacher?\n",
      "[(4, 'tea'), (3, 'I'), (2, 're'), (2, 'o'), (2, 'mo'), (2, 'ching'), (2, 'cher'), (2, 'as'), (2, 'and'), (2, 'a'), (1, 'yo'), (1, 'wering'), (1, 've'), (1, 'u'), (1, 'to'), (1, 'tivate'), (1, 'ting'), (1, 'thi'), (1, 'tha'), (1, 's'), (1, 'rewarding'), (1, 'ple'), (1, 'peo'), (1, 'other'), (1, 'nothing'), (1, 'n'), (1, 'm'), (1, 'lo'), (1, 'jo'), (1, 'is'), (1, 'interesting'), (1, 'found'), (1, 'es'), (1, 'emp'), (1, 'educa'), (1, 'bs'), (1, 'be'), (1, 'any'), (1, 'am'), (1, 'There'), (1, 'Do')]\n"
     ]
    },
    {
     "name": "stderr",
     "output_type": "stream",
     "text": [
      "<>:3: SyntaxWarning: invalid escape sequence '\\$'\n",
      "<>:3: SyntaxWarning: invalid escape sequence '\\$'\n",
      "C:\\Users\\Amina\\AppData\\Local\\Temp\\ipykernel_16456\\400370943.py:3: SyntaxWarning: invalid escape sequence '\\$'\n",
      "  clean_text = re.sub('[%@&#!;.\\$]', '', sentence )\n"
     ]
    }
   ],
   "source": [
    "import re\n",
    "sentence = '%I $am@% a %tea@cher%, &and& I lo%#ve %tea@ching%;. There $is nothing; &as& mo@re rewarding as educa@ting &and& @emp%o@wering peo@ple. ;I found tea@ching m%o@re interesting tha@n any other %jo@bs. %Do@es thi%s mo@tivate yo@u to be a tea@cher!?'\n",
    "clean_text = re.sub('[%@&#!;.\\$]', '', sentence )\n",
    "\n",
    "print(clean_text)\n",
    "\n",
    "#print most frequent words\n",
    "words = re.findall(pattern, sentence)\n",
    "\n",
    "\n",
    "unigue_words = set(words)\n",
    "#counts the words\n",
    "word_c = [(words.count(word), word) for word in unigue_words]\n",
    "\n",
    "word_c.sort(reverse= True)\n",
    "\n",
    "print(word_c)\n"
   ]
  }
 ],
 "metadata": {
  "kernelspec": {
   "display_name": "Python 3",
   "language": "python",
   "name": "python3"
  },
  "language_info": {
   "codemirror_mode": {
    "name": "ipython",
    "version": 3
   },
   "file_extension": ".py",
   "mimetype": "text/x-python",
   "name": "python",
   "nbconvert_exporter": "python",
   "pygments_lexer": "ipython3",
   "version": "3.12.4"
  }
 },
 "nbformat": 4,
 "nbformat_minor": 2
}
