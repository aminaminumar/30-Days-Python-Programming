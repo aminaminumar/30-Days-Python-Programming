{
 "cells": [
  {
   "cell_type": "markdown",
   "metadata": {},
   "source": [
    "## Exercise\n",
    "1. Declare your age as integer variable\n",
    "2. Declare your height as a float variable\n",
    "3. Declare a variable that store a complex number\n",
    "4. Write a script that prompts the user to enter base and height of the triangle and calculate an area of this triangle (area = 0.5 x b x h)."
   ]
  },
  {
   "cell_type": "code",
   "execution_count": null,
   "metadata": {},
   "outputs": [],
   "source": [
    "my_age = 20 #Declare your age as integer variable\n",
    "\n",
    "my_height = 56.3 #Declare your height as a float variable\n",
    "\n",
    "complex_num = 2 + 1j  #Declare a variable that store a complex number\n"
   ]
  },
  {
   "cell_type": "code",
   "execution_count": null,
   "metadata": {},
   "outputs": [
    {
     "name": "stdout",
     "output_type": "stream",
     "text": [
      "Area of triange: 100.0\n"
     ]
    }
   ],
   "source": [
    "base = float(input(\"enter base of triangle\"))\n",
    "height = float(input(\"enter height of triangle\"))\n",
    "area_triangle = 0.5 * base * height\n",
    "print(\"The Area of triange is:\", area_triangle)"
   ]
  },
  {
   "cell_type": "markdown",
   "metadata": {},
   "source": [
    "5. Write a script that prompts the user to enter side a, side b, and side c of the triangle. Calculate the perimeter of the triangle (perimeter = a + b + c)."
   ]
  },
  {
   "cell_type": "code",
   "execution_count": 4,
   "metadata": {},
   "outputs": [
    {
     "name": "stdout",
     "output_type": "stream",
     "text": [
      "The Perimeter of the Triangle is: 43.0\n"
     ]
    }
   ],
   "source": [
    "a = float(input(\"enter side a of the triangle\"))\n",
    "b = float(input(\"enter side b of the triangle\"))\n",
    "c = float(input(\"enter side c of the triangle\"))\n",
    "\n",
    "perimeter = a + b + c\n",
    "\n",
    "print(\"The Perimeter of the Triangle is:\", perimeter)\n"
   ]
  },
  {
   "cell_type": "markdown",
   "metadata": {},
   "source": [
    "6. Get length and width of a rectangle using prompt. Calculate its area (area = length x width) and perimeter (perimeter = 2 x (length + width))\n",
    "7. Get radius of a circle using prompt. Calculate the area (area = pi x r x r) and circumference (c = 2 x pi x r) where pi = 3.14.\n",
    "8. Calculate the slope, x-intercept and y-intercept of y = 2x -2\n",
    "   Slope is (m = y2-y1/x2-x1). Find the slope and Euclidean distance between point (2, 2) and point (6,10)\n",
    "9.  Compare the slopes in tasks 8 and 9.\n",
    "10. Calculate the value of y (y = x^2 + 6x + 9). Try to use different x values and figure out at what x value y is going to be 0.\n",
    "11. Find the length of 'python' and 'dragon' and make a falsy comparison statement.\n",
    "12. Use and operator to check if 'on' is found in both 'python' and 'dragon'\n",
    "13. I hope this course is not full of jargon. Use in operator to check if jargon is in the sentence.\n",
    "14. There is no 'on' in both dragon and python\n",
    "15. Find the length of the text python and convert the value to float and convert it to string\n",
    "16. Even numbers are divisible by 2 and the remainder is zero. How do you check if a number is even or not using python?\n",
    "17. Check if the floor division of 7 by 3 is equal to the int converted value of 2.7.\n",
    "18. Check if type of '10' is equal to type of 10\n",
    "19. Check if int('9.8') is equal to 10\n",
    "20. Writ a script that prompts the user to enter hours and rate per hour. Calculate pay of the person?"
   ]
  },
  {
   "cell_type": "code",
   "execution_count": null,
   "metadata": {},
   "outputs": [
    {
     "name": "stdout",
     "output_type": "stream",
     "text": [
      "the Area of Rectangle is : 240.0 \n",
      " perimeter of Rectangle is: 64.0\n"
     ]
    }
   ],
   "source": [
    "# Get length and width of a rectangle using prompt. Calculate its area (area = length x width)\n",
    "# and perimeter (perimeter = 2 x (length + width))\n",
    "\n",
    "length = float(input(\"enter lenth of rectangle\"))\n",
    "width = float(input(\"enter width of rectangle\"))\n",
    "\n",
    "area_rectangle = length * width\n",
    "\n",
    "perimeter_of_rectangle = 2 * (length + width)\n",
    "\n"
   ]
  },
  {
   "cell_type": "code",
   "execution_count": 10,
   "metadata": {},
   "outputs": [
    {
     "name": "stdout",
     "output_type": "stream",
     "text": [
      "The Area of Rectangle is : 240.0\n",
      "The Perimeter of Rectangle is: 64.0\n"
     ]
    }
   ],
   "source": [
    "print(f\"The Area of Rectangle is : {area_rectangle}\\nThe Perimeter of Rectangle is: {perimeter_of_rectangle}\")"
   ]
  },
  {
   "cell_type": "code",
   "execution_count": 14,
   "metadata": {},
   "outputs": [
    {
     "name": "stdout",
     "output_type": "stream",
     "text": [
      "The Area Of circle is: 615.44 \n",
      "The Circumference of circle is: 87.92\n"
     ]
    }
   ],
   "source": [
    "# Get radius of a circle using prompt. Calculate the area (area = pi x r x r) and \n",
    "# circumference (c = 2 x pi x r) where pi = 3.14.\n",
    "\n",
    "raduis_circle = float(input(\"Enter radius of circle\"))\n",
    "\n",
    "area_circle = 3.14 * (raduis_circle ** 2)\n",
    "circumference = 2 * 3.14 * raduis_circle\n",
    "\n",
    "print(f\"The Area Of circle is: {area_circle} \\nThe Circumference of circle is: {circumference}\")"
   ]
  },
  {
   "cell_type": "code",
   "execution_count": 21,
   "metadata": {},
   "outputs": [
    {
     "name": "stdout",
     "output_type": "stream",
     "text": [
      "Slope is: 2 \n",
      "y_intercept is: -2 \n",
      "x_intercept is: 1.0\n"
     ]
    }
   ],
   "source": [
    "# Calculate the slope, x-intercept and y-intercept of y = 2x -2\n",
    "\n",
    "\n",
    "import math\n",
    "\n",
    "slope = 2 #slope m is directly from the eqaution y = mx + c\n",
    "\n",
    "y_intercept = -2 #y_intercept is same as c\n",
    "x_intercept = - y_intercept/slope\n",
    "\n",
    "print(f\"Slope is: {slope} \\ny_intercept is: {y_intercept} \\nx_intercept is: {x_intercept}\")"
   ]
  },
  {
   "cell_type": "code",
   "execution_count": 22,
   "metadata": {},
   "outputs": [
    {
     "name": "stdout",
     "output_type": "stream",
     "text": [
      "The slope is: 2.0 \n",
      "The Eclidean Distance is: 8.94427190999916\n"
     ]
    }
   ],
   "source": [
    "# Slope is (m = y2-y1/x2-x1). Find the slope and Euclidean distance between point (2, 2) and point (6,10)\n",
    "\n",
    "x1, x2 = 2, 6\n",
    "y1, y2 = 2, 10\n",
    "\n",
    "slope_m = (y2 - y1)/(x2 - x1)\n",
    "\n",
    "Euclidean_distance = math.sqrt((x2 - x1)**2 + (y2 - y1)**2)    # d = sqrt((x2 - x1)^2 + (y2 - y1)^2)\n",
    "\n",
    "print(f\"The slope is: {slope_m} \\nThe Eclidean Distance is: {Euclidean_distance}\")"
   ]
  },
  {
   "cell_type": "code",
   "execution_count": 23,
   "metadata": {},
   "outputs": [
    {
     "data": {
      "text/plain": [
       "True"
      ]
     },
     "execution_count": 23,
     "metadata": {},
     "output_type": "execute_result"
    }
   ],
   "source": [
    "# Compare the slopes in tasks 8 and 9.\n",
    "\n",
    "slope == slope_m"
   ]
  },
  {
   "cell_type": "code",
   "execution_count": null,
   "metadata": {},
   "outputs": [
    {
     "name": "stdout",
     "output_type": "stream",
     "text": [
      "25\n",
      "49\n",
      "0\n"
     ]
    }
   ],
   "source": [
    "# Calculate the value of y (y = x^2 + 6x + 9). Try to use different x values and \n",
    "# figure out at what x value y is going to be 0.\n",
    "\n",
    "xi = 2   \n",
    "y = (xi**2) + (6*xi) + 9\n",
    "\n",
    "print(y)\n",
    "\n",
    "xii = 4\n",
    "y = (xii**2) + (6*xii) + 9\n",
    "\n",
    "print(y)\n",
    " \n",
    "xiii = -3   # y will be zero\n",
    "y = (xiii**2) + (6*xiii) + 9\n",
    "\n",
    "print(y)\n",
    "\n",
    "#since its a quadratic eqaution we can factorize it by saying (x + 3)**2"
   ]
  },
  {
   "cell_type": "code",
   "execution_count": null,
   "metadata": {},
   "outputs": [
    {
     "name": "stdout",
     "output_type": "stream",
     "text": [
      "-3 0\n"
     ]
    }
   ],
   "source": [
    "#using for loop to iterate through a range of values to find when y == 0 and its corresponding x value\n",
    "for x in range(-5, 5):\n",
    "    y = (x + 3)**2\n",
    "    if y == 0:\n",
    "        print(x, y)\n"
   ]
  },
  {
   "cell_type": "code",
   "execution_count": 43,
   "metadata": {},
   "outputs": [
    {
     "name": "stdout",
     "output_type": "stream",
     "text": [
      "False\n",
      "False\n",
      "False\n"
     ]
    }
   ],
   "source": [
    "# Find the length of 'python' and 'dragon' and make a falsy comparison statement.\n",
    "\n",
    "print(len(\"python\") != len(\"dragon\"))\n",
    "print(len(\"python\") > len(\"dragon\"))\n",
    "print(len(\"python\") < len(\"dragon\"))\n"
   ]
  },
  {
   "cell_type": "code",
   "execution_count": 47,
   "metadata": {},
   "outputs": [
    {
     "name": "stdout",
     "output_type": "stream",
     "text": [
      "True\n",
      "True\n",
      "False\n"
     ]
    }
   ],
   "source": [
    "\n",
    "# 13. I hope this course is not full of jargon. Use in operator to check if jargon is in the sentence.\n",
    "# 14. There is no 'on' in both dragon and python\n",
    "\n",
    "print('on' in ('python' and 'dragon'))   # Use and operator to check if 'on' is found in both 'python' and 'dragon'\n",
    "\n",
    "print(\"jargon\" in \"I hope this course is not full of jargon\" )\n",
    "\n",
    "print(\"on\"  not in (\"python\" and \"dragon\")  )"
   ]
  },
  {
   "cell_type": "code",
   "execution_count": 51,
   "metadata": {},
   "outputs": [
    {
     "name": "stdout",
     "output_type": "stream",
     "text": [
      "6.0\n",
      "6\n"
     ]
    }
   ],
   "source": [
    "# Find the length of the text python and convert the value to float and convert it to string\n",
    "\n",
    "print(float(len(\"python\")))\n",
    "print(str(len(\"python\")))"
   ]
  },
  {
   "cell_type": "code",
   "execution_count": null,
   "metadata": {},
   "outputs": [],
   "source": [
    "#  Even numbers are divisible by 2 and the remainder is zero. How do you check if a number is even or not using python?\n",
    "\n",
    "even_numbers = x % 2 == 0  # x is an even number \n"
   ]
  },
  {
   "cell_type": "code",
   "execution_count": 52,
   "metadata": {},
   "outputs": [
    {
     "data": {
      "text/plain": [
       "True"
      ]
     },
     "execution_count": 52,
     "metadata": {},
     "output_type": "execute_result"
    }
   ],
   "source": [
    "# Check if the floor division of 7 by 3 is equal to the int converted value of 2.7.\n",
    "\n",
    "(7 // 3) == int(2.7)"
   ]
  },
  {
   "cell_type": "code",
   "execution_count": null,
   "metadata": {},
   "outputs": [
    {
     "name": "stdout",
     "output_type": "stream",
     "text": [
      "False\n",
      "False\n"
     ]
    }
   ],
   "source": [
    "\n",
    "print(type('10') == type(10))  # Check if type of '10' is equal to type of 10\n",
    "\n",
    "print(int(9.8) == 10)    # 19. Check if int('9.8') is equal to 10\n"
   ]
  },
  {
   "cell_type": "code",
   "execution_count": 58,
   "metadata": {},
   "outputs": [
    {
     "name": "stdout",
     "output_type": "stream",
     "text": [
      "Your Pay is: 10000.0\n"
     ]
    }
   ],
   "source": [
    "# 20. Writ a script that prompts the user to enter hours and rate per hour. Calculate pay of the person?\n",
    "\n",
    "hours = int(input(\"enter hour\"))\n",
    "rate_per_hour = float(input(\"enter rate per hour\"))\n",
    "\n",
    "pay = hours * rate_per_hour\n",
    "\n",
    "print(f\"Your Pay is: {pay}\")"
   ]
  },
  {
   "cell_type": "code",
   "execution_count": 59,
   "metadata": {},
   "outputs": [
    {
     "name": "stdout",
     "output_type": "stream",
     "text": [
      "you have lived for 3153600000 seconds\n"
     ]
    }
   ],
   "source": [
    "\n",
    "# 21. Write a script that prompts the user to enter number of years. Calculate the number of seconds a person can live.\n",
    "# Assume a person can live hundred years\n",
    "\n",
    "years = int(input(\"enter your years\"))\n",
    "seconds = years * (365 * 24 * 60 * 60)\n",
    "\n",
    "print(f\"you have lived for {seconds} seconds\")\n"
   ]
  },
  {
   "cell_type": "code",
   "execution_count": 61,
   "metadata": {},
   "outputs": [
    {
     "name": "stdout",
     "output_type": "stream",
     "text": [
      "1 1 1 1 1\n",
      "2 1 2 4 8\n",
      "3 1 3 9 27\n",
      "4 1 4 16 64\n",
      "5 1 5 25 125\n"
     ]
    }
   ],
   "source": [
    "for n in range(1, 6):\n",
    "    print(n, n**0, n**1, n**2, n**3)"
   ]
  }
 ],
 "metadata": {
  "kernelspec": {
   "display_name": "Python 3",
   "language": "python",
   "name": "python3"
  },
  "language_info": {
   "codemirror_mode": {
    "name": "ipython",
    "version": 3
   },
   "file_extension": ".py",
   "mimetype": "text/x-python",
   "name": "python",
   "nbconvert_exporter": "python",
   "pygments_lexer": "ipython3",
   "version": "3.12.4"
  }
 },
 "nbformat": 4,
 "nbformat_minor": 4
}
