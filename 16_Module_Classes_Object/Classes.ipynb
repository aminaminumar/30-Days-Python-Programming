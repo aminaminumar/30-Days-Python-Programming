{
 "cells": [
  {
   "cell_type": "markdown",
   "metadata": {},
   "source": [
    "## Exercises: Level 2\n",
    "Create a class called PersonAccount. It has firstname, lastname, incomes, expenses properties and it has total_income, total_expense, account_info, add_income, add_expense and account_balance methods. Incomes is a set of incomes and its description. The same goes for expenses."
   ]
  },
  {
   "cell_type": "code",
   "execution_count": null,
   "metadata": {},
   "outputs": [],
   "source": [
    "class PersonAccount:\n",
    "    # initializing the attrubutes\n",
    "    def __init__(self, firstname, lastname, incomes, expense):\n",
    "        self.firstname = firstname\n",
    "        self.lastname = lastname\n",
    "        self.incomes = incomes\n",
    "        self.expense = expense\n",
    "        \n",
    "    def total_income(self): \n",
    "        return f\"total income:{self.incomes}\"\n",
    "    \n",
    "    def total_expence(self):\n",
    "        return f\"total expence: {self.expense}\"\n",
    "    \n",
    "    def account_info(self):\n",
    "        return f\"account info:\\nAccount name: {self.firstname} {self.lastname}\\n income: {self.incomes}\\n expense:{self.expense}\"\n",
    "    \n",
    "    def add_income():\n",
    "        \n"
   ]
  },
  {
   "cell_type": "code",
   "execution_count": null,
   "metadata": {},
   "outputs": [],
   "source": []
  },
  {
   "cell_type": "code",
   "execution_count": 1,
   "metadata": {},
   "outputs": [],
   "source": [
    "class PersonAccount:\n",
    "    # initializing the attributes\n",
    "    def __init__(self, firstname, lastname, incomes, expenses):\n",
    "        self.firstname = firstname\n",
    "        self.lastname = lastname\n",
    "        self.incomes = incomes\n",
    "        self.expenses = expenses\n",
    "        \n",
    "    def total_income(self): \n",
    "        return sum(self.incomes.values())\n",
    "    \n",
    "    def total_expense(self):\n",
    "        return sum(self.expenses.values())\n",
    "    \n",
    "    def account_info(self):\n",
    "        return f\"Account info:\\nAccount name: {self.firstname} {self.lastname}\\nIncome: {self.incomes}\\nExpenses: {self.expenses}\"\n",
    "    \n",
    "    def add_income(self, description, amount):\n",
    "        self.incomes[description] = amount\n",
    "    \n",
    "    def add_expense(self, description, amount):\n",
    "        self.expenses[description] = amount\n",
    "    \n",
    "    def account_balance(self):\n",
    "        return self.total_income() - self.total_expense()"
   ]
  },
  {
   "cell_type": "code",
   "execution_count": null,
   "metadata": {},
   "outputs": [],
   "source": []
  },
  {
   "cell_type": "markdown",
   "metadata": {},
   "source": [
    "Try It Yourse\n",
    "9-1. Restaurant: Make a class called Restaurant. The __init__() method for\n",
    "Restaurant should store two attributes: a restaurant_name and a cuisine_type\n",
    "Make a method called describe_restaurant() that prints these two pieces of \n",
    "information, and a method called open_restaurant() that prints a message indi\u0002cating that the restaurant is ope"
   ]
  },
  {
   "cell_type": "code",
   "execution_count": 3,
   "metadata": {},
   "outputs": [],
   "source": [
    "class Restaurant:\n",
    "    def __init__(self, restaurant_name, cuisine_type):\n",
    "        self.restaurant_name = restaurant_name\n",
    "        self.cuisine_type = cuisine_type\n",
    "\n",
    "    def describe_restaurant(self):\n",
    "        return f\"Welcome to {self.restaurant_name} where we serve special {self.cuisine_type} among others\"\n",
    "    \n",
    "    def open_retaurant(self):\n",
    "        return \"We are Open\""
   ]
  },
  {
   "cell_type": "code",
   "execution_count": 10,
   "metadata": {},
   "outputs": [
    {
     "name": "stdout",
     "output_type": "stream",
     "text": [
      "FuffEat\n",
      "African Dish\n"
     ]
    },
    {
     "data": {
      "text/plain": [
       "'We are Open'"
      ]
     },
     "execution_count": 10,
     "metadata": {},
     "output_type": "execute_result"
    }
   ],
   "source": [
    "#create an instance of the class\n",
    "MyRestaurant = Restaurant('FuffEat', 'African Dish')    \n",
    "\n",
    "print(MyRestaurant.restaurant_name)\n",
    "print(MyRestaurant.cuisine_type)\n",
    "\n",
    "MyRestaurant.describe_restaurant()\n",
    "MyRestaurant.open_retaurant()"
   ]
  },
  {
   "cell_type": "markdown",
   "metadata": {},
   "source": [
    " Users: Make a class called User. Create two attributes called first_nam\n",
    "and last_name, and then create several other attributes that are typically stored \n",
    "in a user profile. Make a method called describe_user() that prints a summary\n",
    "of the user’s information. Make another method called greet_user() that prints\n",
    "a personalized greeting to the use"
   ]
  },
  {
   "cell_type": "code",
   "execution_count": 11,
   "metadata": {},
   "outputs": [],
   "source": [
    "class User:\n",
    "    def __init__(self, first_name, last_name, age, height, gender):\n",
    "        self.first_name = first_name\n",
    "        self.last_name = last_name\n",
    "        self.age = age\n",
    "        self.height = height\n",
    "        self.gender = gender\n",
    "\n",
    "\n",
    "    def describe_user(self):\n",
    "        return f\"This is {self.first_name} {self.last_name} is {self.height}ft and is {self.age} years old\"\n",
    "    \n",
    "    def greet_user(self, greetings):\n",
    "        return f\"{greetings} {self.first_name} {self.last_name}\""
   ]
  },
  {
   "cell_type": "code",
   "execution_count": 14,
   "metadata": {},
   "outputs": [
    {
     "data": {
      "text/plain": [
       "'Ina Wuni Amina aminu'"
      ]
     },
     "execution_count": 14,
     "metadata": {},
     "output_type": "execute_result"
    }
   ],
   "source": [
    "#create an instance of class user\n",
    "\n",
    "user = User('Amina', \"aminu\", 25, 5, 'female')\n",
    "\n",
    "user.describe_user()\n",
    "user.greet_user('Ina Wuni')"
   ]
  }
 ],
 "metadata": {
  "kernelspec": {
   "display_name": "Python 3",
   "language": "python",
   "name": "python3"
  },
  "language_info": {
   "codemirror_mode": {
    "name": "ipython",
    "version": 3
   },
   "file_extension": ".py",
   "mimetype": "text/x-python",
   "name": "python",
   "nbconvert_exporter": "python",
   "pygments_lexer": "ipython3",
   "version": "3.12.4"
  }
 },
 "nbformat": 4,
 "nbformat_minor": 2
}
