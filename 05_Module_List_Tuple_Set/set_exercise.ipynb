{
 "cells": [
  {
   "cell_type": "markdown",
   "metadata": {},
   "source": [
    "## Sets Exercises: Level 1\n",
    "1. Find the length of the set it_companies\n",
    "2. Add 'Twitter' to it_companies\n",
    "3. Insert multiple IT companies at once to the set it_companies\n",
    "4. Remove one of the companies from the set it_companies\n",
    "5. What is the difference between remove and discard\n",
    "\n"
   ]
  },
  {
   "cell_type": "markdown",
   "metadata": {},
   "source": [
    "## Sets Exercises: Level 2\n",
    "1. Join A and B\n",
    "2. Find A intersection B\n",
    "3. Is A subset of B\n",
    "4. Are A and B disjoint sets\n",
    "5. Join A with B and B with A\n",
    "6. What is the symmetric difference between A and B\n",
    "7. Delete the sets completely"
   ]
  },
  {
   "cell_type": "markdown",
   "metadata": {},
   "source": [
    "## Sets Exercises: Level 3\n",
    "1. Convert the ages to a set and compare the length of the list and the set, which one is bigger?\n",
    "2. Explain the difference between the following data types: string, list, tuple and set\n",
    "3. I am a teacher and I love to inspire and teach people. How many unique words have been used in the sentence? Use the 4. 4. split methods and set to get the unique words."
   ]
  }
 ],
 "metadata": {
  "language_info": {
   "name": "python"
  }
 },
 "nbformat": 4,
 "nbformat_minor": 2
}
