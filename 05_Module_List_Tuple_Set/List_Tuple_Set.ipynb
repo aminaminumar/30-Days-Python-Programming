{
 "cells": [
  {
   "cell_type": "markdown",
   "metadata": {},
   "source": [
    "# List \n",
    "## Exercise 1"
   ]
  },
  {
   "cell_type": "markdown",
   "metadata": {},
   "source": [
    "1. Declare an empty list\n",
    "\n",
    "2. Declare a list with more than 5 items\n",
    "\n",
    "3. Find the length of your list\n",
    "\n",
    "4. Get the first item, the middle item and the last item of the list\n",
    "\n",
    "5. Declare a list called mixed_data_types, put your(name, age, height, marital status, address)\n",
    "\n",
    "6. Declare a list variable named it_companies and assign initial values Facebook, Google, Microsoft, Apple, IBM, Oracle and Amazon.\n",
    "\n",
    "7. Print the list using print()\n",
    "\n",
    "8. Print the number of companies in the list\n",
    "\n",
    "9. Print the first, middle and last company\n",
    "\n",
    "10. Print the list after modifying one of the companies\n",
    "\n",
    "11. Add an IT company to it_companies\n",
    "\n",
    "12. Insert an IT company in the middle of the companies list\n",
    "\n",
    "13. Change one of the it_companies names to uppercase (IBM excluded!)\n",
    "\n",
    "14. Join the it_companies with a string '#;  '\n",
    "\n",
    "15. Check if a certain company exists in the it_companies list.\n",
    "\n",
    "16. Sort the list using sort() method\n",
    "\n",
    "17. Reverse the list in descending order using reverse() method\n",
    "\n",
    "18. Slice out the first 3 companies from the list\n",
    "\n",
    "19. Slice out the last 3 companies from the list\n",
    "\n",
    "20. Slice out the middle IT company or companies from the list\n",
    "\n",
    "21. Remove the first IT company from the list\n",
    "\n",
    "22. Remove the middle IT company or companies from the list\n",
    "\n",
    "23. Remove the last IT company from the list\n",
    "\n",
    "24. Remove all IT companies from the list\n",
    "\n",
    "25. Destroy the IT companies list\n",
    "\n",
    "26. Join the following lists:\n",
    "\n",
    "- front_end = ['HTML', 'CSS', 'JS', 'React', 'Redux']\n",
    "- back_end = ['Node','Express', 'MongoDB']\n",
    "27. After joining the lists in question 26. Copy the joined list and assign it to a variable full_stack, then insert Python  and SQL after Redux."
   ]
  },
  {
   "cell_type": "code",
   "execution_count": 2,
   "metadata": {},
   "outputs": [],
   "source": [
    "empty_list  = list()  #empty list\n",
    "empty_list  = []    #empty list"
   ]
  },
  {
   "cell_type": "code",
   "execution_count": null,
   "metadata": {},
   "outputs": [],
   "source": [
    "items_5 = ['name', 'age', 'time', 'state', 'country']\n"
   ]
  },
  {
   "cell_type": "code",
   "execution_count": 4,
   "metadata": {},
   "outputs": [
    {
     "name": "stdout",
     "output_type": "stream",
     "text": [
      "5\n"
     ]
    }
   ],
   "source": [
    "print(len(items_5)) #length of list"
   ]
  },
  {
   "cell_type": "code",
   "execution_count": null,
   "metadata": {},
   "outputs": [
    {
     "name": "stdout",
     "output_type": "stream",
     "text": [
      "name\n",
      "time\n",
      "country\n"
     ]
    }
   ],
   "source": [
    "print(items_5[0]) #first item\n",
    "print(items_5[2])  #middle item\n",
    "print(items_5[-1])  #last item"
   ]
  },
  {
   "cell_type": "code",
   "execution_count": 7,
   "metadata": {},
   "outputs": [],
   "source": [
    "mixed_data_type = ['Amina', 23, 56,0,  'married', \"Kaduna State\"]"
   ]
  },
  {
   "cell_type": "code",
   "execution_count": 6,
   "metadata": {},
   "outputs": [],
   "source": [
    "It_company = [\"Facebook\", \"Google\", \"Microsoft\", \"Apple\", \"IBM\", \"Oracle\", \"Amazon\"]"
   ]
  },
  {
   "cell_type": "code",
   "execution_count": 8,
   "metadata": {},
   "outputs": [
    {
     "name": "stdout",
     "output_type": "stream",
     "text": [
      "['Facebook', 'Google', 'Microsoft', 'Apple', 'IBM', 'Oracle', 'Amazon']\n"
     ]
    }
   ],
   "source": [
    "print(It_company)"
   ]
  },
  {
   "cell_type": "code",
   "execution_count": 9,
   "metadata": {},
   "outputs": [
    {
     "name": "stdout",
     "output_type": "stream",
     "text": [
      "7\n"
     ]
    }
   ],
   "source": [
    "print(len(It_company))"
   ]
  },
  {
   "cell_type": "code",
   "execution_count": 12,
   "metadata": {},
   "outputs": [
    {
     "name": "stdout",
     "output_type": "stream",
     "text": [
      "Facebook\n",
      "Apple\n",
      "Amazon\n"
     ]
    }
   ],
   "source": [
    "print(It_company[0]) #first item\n",
    "print(It_company[len(It_company)//2])  #middle item\n",
    "print(It_company[-1])  #last item"
   ]
  },
  {
   "cell_type": "code",
   "execution_count": 14,
   "metadata": {},
   "outputs": [
    {
     "name": "stdout",
     "output_type": "stream",
     "text": [
      "['Facebook', 'Touch_IT', 'Microsoft', 'Apple', 'IBM', 'Oracle', 'Amazon']\n"
     ]
    }
   ],
   "source": [
    "It_company[1] = \"Touch_IT\"\n",
    "print(It_company)"
   ]
  },
  {
   "cell_type": "code",
   "execution_count": 15,
   "metadata": {},
   "outputs": [
    {
     "name": "stdout",
     "output_type": "stream",
     "text": [
      "['Facebook', 'Touch_IT', 'Microsoft', 'Apple', 'IBM', 'Oracle', 'Amazon', '3LOGY_Limited']\n"
     ]
    }
   ],
   "source": [
    "It_company.append(\"3LOGY_Limited\")\n",
    "print(It_company)"
   ]
  },
  {
   "cell_type": "code",
   "execution_count": 17,
   "metadata": {},
   "outputs": [
    {
     "name": "stdout",
     "output_type": "stream",
     "text": [
      "['Facebook', 'Touch_IT', 'Dialogue', 'Microsoft', 'Apple', 'IBM', 'Oracle', 'Amazon', '3LOGY_Limited']\n"
     ]
    }
   ],
   "source": [
    "It_company.insert(2, 'Dialogue')\n",
    "print(It_company)"
   ]
  },
  {
   "cell_type": "code",
   "execution_count": 21,
   "metadata": {},
   "outputs": [
    {
     "data": {
      "text/plain": [
       "'MICROSOFT'"
      ]
     },
     "execution_count": 21,
     "metadata": {},
     "output_type": "execute_result"
    }
   ],
   "source": [
    "# Change one of the it_companies names to uppercase (IBM excluded!)\n",
    "\n",
    "It_company[3].upper()"
   ]
  },
  {
   "cell_type": "code",
   "execution_count": 24,
   "metadata": {},
   "outputs": [],
   "source": [
    "# 14. Join the it_companies with a string '#;  '\n",
    "It_company.extend(\"#\")\n"
   ]
  },
  {
   "cell_type": "code",
   "execution_count": null,
   "metadata": {},
   "outputs": [
    {
     "data": {
      "text/plain": [
       "3"
      ]
     },
     "execution_count": 26,
     "metadata": {},
     "output_type": "execute_result"
    }
   ],
   "source": [
    "# 15. Check if a certain company exists in the it_companies list.\n",
    "It_company.index(\"Microsoft\") #returns the index of the item in the list"
   ]
  },
  {
   "cell_type": "code",
   "execution_count": 29,
   "metadata": {},
   "outputs": [
    {
     "name": "stdout",
     "output_type": "stream",
     "text": [
      "['#', '3LOGY_Limited', 'Amazon', 'Apple', 'Dialogue', 'Facebook', 'IBM', 'Microsoft', 'Oracle', 'Touch_IT']\n"
     ]
    }
   ],
   "source": [
    "# 16. Sort the list using sort() method\n",
    "It_company.sort()\n",
    "print(It_company)"
   ]
  },
  {
   "cell_type": "code",
   "execution_count": 34,
   "metadata": {},
   "outputs": [
    {
     "name": "stdout",
     "output_type": "stream",
     "text": [
      "['Touch_IT', 'Oracle', 'Microsoft', 'IBM', 'Facebook', 'Dialogue', 'Apple', 'Amazon', '3LOGY_Limited', '#']\n"
     ]
    }
   ],
   "source": [
    "# 17. Reverse the list in descending order using reverse() method\n",
    "It_company.reverse()\n",
    "print(It_company)"
   ]
  },
  {
   "cell_type": "code",
   "execution_count": 37,
   "metadata": {},
   "outputs": [
    {
     "name": "stdout",
     "output_type": "stream",
     "text": [
      "['Touch_IT', 'Oracle', 'Microsoft']\n"
     ]
    }
   ],
   "source": [
    "# 18. Slice out the first 3 companies from the list\n",
    "print(It_company[0:3])"
   ]
  },
  {
   "cell_type": "code",
   "execution_count": null,
   "metadata": {},
   "outputs": [
    {
     "name": "stdout",
     "output_type": "stream",
     "text": [
      "['Amazon', '3LOGY_Limited', '#']\n"
     ]
    }
   ],
   "source": [
    "# 19. Slice out the last 3 companies from the list\n",
    "\n",
    "print(It_company[-3::])"
   ]
  },
  {
   "cell_type": "code",
   "execution_count": 46,
   "metadata": {},
   "outputs": [
    {
     "name": "stdout",
     "output_type": "stream",
     "text": [
      "['IBM', 'Facebook', 'Dialogue']\n"
     ]
    }
   ],
   "source": [
    "# 20. Slice out the middle IT company or companies from the list\n",
    "print(It_company[3:6])"
   ]
  },
  {
   "cell_type": "code",
   "execution_count": 56,
   "metadata": {},
   "outputs": [
    {
     "name": "stdout",
     "output_type": "stream",
     "text": [
      "['IBM']\n"
     ]
    }
   ],
   "source": [
    "# 21. Remove the first IT company from the list\n",
    "del It_company[0]\n",
    "print(It_company)"
   ]
  },
  {
   "cell_type": "code",
   "execution_count": 58,
   "metadata": {},
   "outputs": [
    {
     "name": "stdout",
     "output_type": "stream",
     "text": [
      "['IBM']\n"
     ]
    }
   ],
   "source": [
    "# 22. Remove the middle IT company or companies from the list\n",
    "del It_company[2:5]\n",
    "print(It_company)"
   ]
  },
  {
   "cell_type": "code",
   "execution_count": 59,
   "metadata": {},
   "outputs": [],
   "source": [
    "# 25. Destroy the IT companies list\n",
    "del It_company"
   ]
  },
  {
   "cell_type": "code",
   "execution_count": 82,
   "metadata": {},
   "outputs": [
    {
     "data": {
      "text/plain": [
       "['HTML', 'CSS', 'JS', 'React', 'Redux', 'Node', 'Express', 'MongoDB']"
      ]
     },
     "execution_count": 82,
     "metadata": {},
     "output_type": "execute_result"
    }
   ],
   "source": [
    "# Join the following lists:\n",
    "\n",
    "front_end = ['HTML', 'CSS', 'JS', 'React', 'Redux']\n",
    "back_end = ['Node','Express', 'MongoDB']\n",
    "join_list = front_end + back_end\n",
    "join_list"
   ]
  },
  {
   "cell_type": "code",
   "execution_count": 83,
   "metadata": {},
   "outputs": [],
   "source": [
    "# 27. After joining the lists in question 26. Copy the joined list and\n",
    "# assign it to a variable full_stack, then insert Python  and SQL after Redux.\n",
    "\n",
    "full_stack = join_list.copy() \n"
   ]
  },
  {
   "cell_type": "code",
   "execution_count": 81,
   "metadata": {},
   "outputs": [
    {
     "name": "stdout",
     "output_type": "stream",
     "text": [
      "['HTML', 'CSS', 'JS', 'React', 'Redux', 'python', 'sql', 'python', 'sql']\n"
     ]
    }
   ],
   "source": [
    "p = [\"python\", \"sql\"]\n",
    "front_end.extend(p)\n",
    "print(front_end)"
   ]
  },
  {
   "cell_type": "markdown",
   "metadata": {},
   "source": [
    "## Exercise 2\n",
    "The following is a list of 10 students ages:\n",
    "ages = [19, 22, 19, 24, 20, 25, 26, 24, 25, 24]\n",
    "\n",
    "1. Sort the list and find the min and max age\n",
    "2. Add the min age and the max age again to the list\n",
    "3. Find the median age (one middle item or two middle items divided by two)\n",
    "4. Find the average age (sum of all items divided by their number )\n",
    "5. Find the range of the ages (max minus min)\n",
    "6. Compare the value of (min - average) and (max - average), use abs() method\n",
    "7. Find the middle country(ies) in the countries list\n",
    "8. Divide the countries list into two equal lists if it is even if not one more country for the first half.\n",
    "['China', 'Russia', 'USA', 'Finland', 'Sweden', 'Norway', 'Denmark']. Unpack the first three countries and the rest as scandic countries."
   ]
  },
  {
   "cell_type": "code",
   "execution_count": 7,
   "metadata": {},
   "outputs": [
    {
     "name": "stdout",
     "output_type": "stream",
     "text": [
      "list of ages: [19, 19, 20, 22, 24, 24, 24, 25, 25, 26],\n",
      "min_ages: 19,\n",
      "max_ages: 26\n"
     ]
    }
   ],
   "source": [
    "ages = [19, 22, 19, 24, 20, 25, 26, 24, 25, 24]\n",
    "# 1. Sort the list and find the min and max age\n",
    "ages.sort()  \n",
    "min_age = min(ages)\n",
    "max_age = max(ages)\n",
    "print(f\"list of ages: {ages},\\nmin_ages: {min_age},\\nmax_ages: {max_age}\" )"
   ]
  },
  {
   "cell_type": "code",
   "execution_count": null,
   "metadata": {},
   "outputs": [],
   "source": [
    "ages.append(min_age)\n"
   ]
  },
  {
   "cell_type": "code",
   "execution_count": 11,
   "metadata": {},
   "outputs": [
    {
     "data": {
      "text/plain": [
       "[19, 19, 20, 22, 24, 24, 24, 25, 25, 26, 19, 26, 26]"
      ]
     },
     "execution_count": 11,
     "metadata": {},
     "output_type": "execute_result"
    }
   ],
   "source": [
    "ages.append(max_age)\n",
    "ages"
   ]
  },
  {
   "cell_type": "code",
   "execution_count": null,
   "metadata": {},
   "outputs": [
    {
     "data": {
      "text/plain": [
       "[19, 19, 20, 22, 24, 24, 24, 25, 25, 26, 19, 26, 26, 19, 26]"
      ]
     },
     "execution_count": 13,
     "metadata": {},
     "output_type": "execute_result"
    }
   ],
   "source": [
    "ages.extend([min_age, max_age])  #adding more than two items to list\n",
    "ages"
   ]
  },
  {
   "cell_type": "code",
   "execution_count": 19,
   "metadata": {},
   "outputs": [
    {
     "name": "stdout",
     "output_type": "stream",
     "text": [
      "24\n"
     ]
    }
   ],
   "source": [
    "# 3. Find the median age (one middle item or two middle items divided by two)\n",
    "ages.sort()\n",
    "# n = len(ages)\n",
    "if len(ages) % 2 != 0:\n",
    "    median =ages[n//2]\n",
    "else:\n",
    "    median = ages[(len(ages)//2 -1)] + ages[(len(ages)//2)]/2\n",
    "print(median)"
   ]
  },
  {
   "cell_type": "code",
   "execution_count": 24,
   "metadata": {},
   "outputs": [
    {
     "name": "stdout",
     "output_type": "stream",
     "text": [
      "Average ages: 22.933333333333334\n"
     ]
    }
   ],
   "source": [
    "# 4. Find the average age (sum of all items divided by their number )\n",
    "average_age = sum(ages)/len(ages)\n",
    "print(f\"Average ages: {average_age}\")"
   ]
  },
  {
   "cell_type": "code",
   "execution_count": 26,
   "metadata": {},
   "outputs": [
    {
     "data": {
      "text/plain": [
       "7"
      ]
     },
     "execution_count": 26,
     "metadata": {},
     "output_type": "execute_result"
    }
   ],
   "source": [
    "# 5. Find the range of the ages (max minus min)\n",
    "range_ages = max_age - min_age #min minus max ages\n",
    "range_ages"
   ]
  },
  {
   "cell_type": "code",
   "execution_count": 30,
   "metadata": {},
   "outputs": [
    {
     "name": "stdout",
     "output_type": "stream",
     "text": [
      "minimum average: 3.9333333333333336 age is greater than maximum average age: 3.0666666666666664\n"
     ]
    }
   ],
   "source": [
    "# 6. Compare the value of (min - average) and (max - average), use abs() method\n",
    "min_average = abs(min_age - average_age)\n",
    "max_average = abs(max_age - average_age)\n",
    "\n",
    "if min_average > max_average:\n",
    "    print(f\"minimum average: {min_average} age is greater than maximum average age: {max_average}\")\n",
    "else:\n",
    "    print(f\"maximum average age: {max_average} age is greater than minimum average: {min_average}\")\n"
   ]
  },
  {
   "cell_type": "code",
   "execution_count": 31,
   "metadata": {},
   "outputs": [],
   "source": [
    "countries = [\n",
    "  'Afghanistan',\n",
    "  'Albania',\n",
    "  'Algeria',\n",
    "  'Andorra',\n",
    "  'Angola',\n",
    "  'Antigua and Barbuda',\n",
    "  'Argentina',\n",
    "  'Armenia',\n",
    "  'Australia',\n",
    "  'Austria',\n",
    "  'Azerbaijan',\n",
    "  'Bahamas',\n",
    "  'Bahrain',\n",
    "  'Bangladesh',\n",
    "  'Barbados',\n",
    "  'Belarus',\n",
    "  'Belgium',\n",
    "  'Belize',\n",
    "  'Benin',\n",
    "  'Bhutan',\n",
    "  'Bolivia',\n",
    "  'Bosnia and Herzegovina',\n",
    "  'Botswana',\n",
    "  'Brazil',\n",
    "  'Brunei',\n",
    "  'Bulgaria',\n",
    "  'Burkina Faso',\n",
    "  'Burundi',\n",
    "  'Cambodia',\n",
    "  'Cameroon',\n",
    "  'Canada',\n",
    "  'Cape Verde',\n",
    "  'Central African Republic',\n",
    "  'Chad',\n",
    "  'Chile',\n",
    "  'China',\n",
    "  'Colombi',\n",
    "  'Comoros',\n",
    "  'Congo (Brazzaville)',\n",
    "  'Congo',\n",
    "  'Costa Rica',\n",
    "  \"Cote d'Ivoire\",\n",
    "  'Croatia',\n",
    "  'Cuba',\n",
    "  'Cyprus',\n",
    "  'Czech Republic',\n",
    "  'Denmark',\n",
    "  'Djibouti',\n",
    "  'Dominica',\n",
    "  'Dominican Republic',\n",
    "  'East Timor (Timor Timur)',\n",
    "  'Ecuador',\n",
    "  'Egypt',\n",
    "  'El Salvador',\n",
    "  'Equatorial Guinea',\n",
    "  'Eritrea',\n",
    "  'Estonia',\n",
    "  'Ethiopia',\n",
    "  'Fiji',\n",
    "  'Finland',\n",
    "  'France',\n",
    "  'Gabon',\n",
    "  'Gambia, The',\n",
    "  'Georgia',\n",
    "  'Germany',\n",
    "  'Ghana',\n",
    "  'Greece',\n",
    "  'Grenada',\n",
    "  'Guatemala',\n",
    "  'Guinea',\n",
    "  'Guinea-Bissau',\n",
    "  'Guyana',\n",
    "  'Haiti',\n",
    "  'Honduras',\n",
    "  'Hungary',\n",
    "  'Iceland',\n",
    "  'India',\n",
    "  'Indonesia',\n",
    "  'Iran',\n",
    "  'Iraq',\n",
    "  'Ireland',\n",
    "  'Israel',\n",
    "  'Italy',\n",
    "  'Jamaica',\n",
    "  'Japan',\n",
    "  'Jordan',\n",
    "  'Kazakhstan',\n",
    "  'Kenya',\n",
    "  'Kiribati',\n",
    "  'Korea, North',\n",
    "  'Korea, South',\n",
    "  'Kuwait',\n",
    "  'Kyrgyzstan',\n",
    "  'Laos',\n",
    "  'Latvia',\n",
    "  'Lebanon',\n",
    "  'Lesotho',\n",
    "  'Liberia',\n",
    "  'Libya',\n",
    "  'Liechtenstein',\n",
    "  'Lithuania',\n",
    "  'Luxembourg',\n",
    "  'Macedonia',\n",
    "  'Madagascar',\n",
    "  'Malawi',\n",
    "  'Malaysia',\n",
    "  'Maldives',\n",
    "  'Mali',\n",
    "  'Malta',\n",
    "  'Marshall Islands',\n",
    "  'Mauritania',\n",
    "  'Mauritius',\n",
    "  'Mexico',\n",
    "  'Micronesia',\n",
    "  'Moldova',\n",
    "  'Monaco',\n",
    "  'Mongolia',\n",
    "  'Morocco',\n",
    "  'Mozambique',\n",
    "  'Myanmar',\n",
    "  'Namibia',\n",
    "  'Nauru',\n",
    "  'Nepal',\n",
    "  'Netherlands',\n",
    "  'New Zealand',\n",
    "  'Nicaragua',\n",
    "  'Niger',\n",
    "  'Nigeria',\n",
    "  'Norway',\n",
    "  'Oman',\n",
    "  'Pakistan',\n",
    "  'Palau',\n",
    "  'Panama',\n",
    "  'Papua New Guinea',\n",
    "  'Paraguay',\n",
    "  'Peru',\n",
    "  'Philippines',\n",
    "  'Poland',\n",
    "  'Portugal',\n",
    "  'Qatar',\n",
    "  'Romania',\n",
    "  'Russia',\n",
    "  'Rwanda',\n",
    "  'Saint Kitts and Nevis',\n",
    "  'Saint Lucia',\n",
    "  'Saint Vincent',\n",
    "  'Samoa',\n",
    "  'San Marino',\n",
    "  'Sao Tome and Principe',\n",
    "  'Saudi Arabia',\n",
    "  'Senegal',\n",
    "  'Serbia and Montenegro',\n",
    "  'Seychelles',\n",
    "  'Sierra Leone',\n",
    "  'Singapore',\n",
    "  'Slovakia',\n",
    "  'Slovenia',\n",
    "  'Solomon Islands',\n",
    "  'Somalia',\n",
    "  'South Africa',\n",
    "  'Spain',\n",
    "  'Sri Lanka',\n",
    "  'Sudan',\n",
    "  'Suriname',\n",
    "  'Swaziland',\n",
    "  'Sweden',\n",
    "  'Switzerland',\n",
    "  'Syria',\n",
    "  'Taiwan',\n",
    "  'Tajikistan',\n",
    "  'Tanzania',\n",
    "  'Thailand',\n",
    "  'Togo',\n",
    "  'Tonga',\n",
    "  'Trinidad and Tobago',\n",
    "  'Tunisia',\n",
    "  'Turkey',\n",
    "  'Turkmenistan',\n",
    "  'Tuvalu',\n",
    "  'Uganda',\n",
    "  'Ukraine',\n",
    "  'United Arab Emirates',\n",
    "  'United Kingdom',\n",
    "  'United States',\n",
    "  'Uruguay',\n",
    "  'Uzbekistan',\n",
    "  'Vanuatu',\n",
    "  'Vatican City',\n",
    "  'Venezuela',\n",
    "  'Vietnam',\n",
    "  'Yemen',\n",
    "  'Zambia',\n",
    "  'Zimbabwe',\n",
    "]"
   ]
  },
  {
   "cell_type": "code",
   "execution_count": null,
   "metadata": {},
   "outputs": [],
   "source": [
    "# Find the middle country(ies) in the countries list\n",
    "# 8. Divide the countries list into two equal lists if it is even if not one more country for the first half.\n",
    "# ['China', 'Russia', 'USA', 'Finland', 'Sweden', 'Norway', 'Denmark'].\n",
    "# Unpack the first three countries and the rest as scandic countries."
   ]
  },
  {
   "cell_type": "code",
   "execution_count": 33,
   "metadata": {},
   "outputs": [
    {
     "data": {
      "text/plain": [
       "'Lesotho'"
      ]
     },
     "execution_count": 33,
     "metadata": {},
     "output_type": "execute_result"
    }
   ],
   "source": [
    "middle_country = countries[len(countries)//2]\n",
    "middle_country"
   ]
  },
  {
   "cell_type": "code",
   "execution_count": 39,
   "metadata": {},
   "outputs": [
    {
     "name": "stdout",
     "output_type": "stream",
     "text": [
      "countries one: ['Afghanistan', 'Albania', 'Algeria', 'Andorra', 'Angola', 'Antigua and Barbuda', 'Argentina', 'Armenia', 'Australia', 'Austria', 'Azerbaijan', 'Bahamas', 'Bahrain', 'Bangladesh', 'Barbados', 'Belarus', 'Belgium', 'Belize', 'Benin', 'Bhutan', 'Bolivia', 'Bosnia and Herzegovina', 'Botswana', 'Brazil', 'Brunei', 'Bulgaria', 'Burkina Faso', 'Burundi', 'Cambodia', 'Cameroon', 'Canada', 'Cape Verde', 'Central African Republic', 'Chad', 'Chile', 'China', 'Colombi', 'Comoros', 'Congo (Brazzaville)', 'Congo', 'Costa Rica', \"Cote d'Ivoire\", 'Croatia', 'Cuba', 'Cyprus', 'Czech Republic', 'Denmark', 'Djibouti', 'Dominica', 'Dominican Republic', 'East Timor (Timor Timur)', 'Ecuador', 'Egypt', 'El Salvador', 'Equatorial Guinea', 'Eritrea', 'Estonia', 'Ethiopia', 'Fiji', 'Finland', 'France', 'Gabon', 'Gambia, The', 'Georgia', 'Germany', 'Ghana', 'Greece', 'Grenada', 'Guatemala', 'Guinea', 'Guinea-Bissau', 'Guyana', 'Haiti', 'Honduras', 'Hungary', 'Iceland', 'India', 'Indonesia', 'Iran', 'Iraq', 'Ireland', 'Israel', 'Italy', 'Jamaica', 'Japan', 'Jordan', 'Kazakhstan', 'Kenya', 'Kiribati', 'Korea, North', 'Korea, South', 'Kuwait', 'Kyrgyzstan', 'Laos', 'Latvia', 'Lebanon', 'Lesotho']\n",
      "countries two: ['Lesotho', 'Liberia', 'Libya', 'Liechtenstein', 'Lithuania', 'Luxembourg', 'Macedonia', 'Madagascar', 'Malawi', 'Malaysia', 'Maldives', 'Mali', 'Malta', 'Marshall Islands', 'Mauritania', 'Mauritius', 'Mexico', 'Micronesia', 'Moldova', 'Monaco', 'Mongolia', 'Morocco', 'Mozambique', 'Myanmar', 'Namibia', 'Nauru', 'Nepal', 'Netherlands', 'New Zealand', 'Nicaragua', 'Niger', 'Nigeria', 'Norway', 'Oman', 'Pakistan', 'Palau', 'Panama', 'Papua New Guinea', 'Paraguay', 'Peru', 'Philippines', 'Poland', 'Portugal', 'Qatar', 'Romania', 'Russia', 'Rwanda', 'Saint Kitts and Nevis', 'Saint Lucia', 'Saint Vincent', 'Samoa', 'San Marino', 'Sao Tome and Principe', 'Saudi Arabia', 'Senegal', 'Serbia and Montenegro', 'Seychelles', 'Sierra Leone', 'Singapore', 'Slovakia', 'Slovenia', 'Solomon Islands', 'Somalia', 'South Africa', 'Spain', 'Sri Lanka', 'Sudan', 'Suriname', 'Swaziland', 'Sweden', 'Switzerland', 'Syria', 'Taiwan', 'Tajikistan', 'Tanzania', 'Thailand', 'Togo', 'Tonga', 'Trinidad and Tobago', 'Tunisia', 'Turkey', 'Turkmenistan', 'Tuvalu', 'Uganda', 'Ukraine', 'United Arab Emirates', 'United Kingdom', 'United States', 'Uruguay', 'Uzbekistan', 'Vanuatu', 'Vatican City', 'Venezuela', 'Vietnam', 'Yemen', 'Zambia']\n"
     ]
    }
   ],
   "source": [
    "l = len(countries)\n",
    "if l % 2 == 0:\n",
    "    countries_1 = countries[0:l//2]\n",
    "    countries_2 = countries[l//2: -1]\n",
    "elif l % 2 != 0:\n",
    "    countries_1 = countries[0:l//2 + 1]\n",
    "    countries_2 = countries[l//2: -1]\n",
    "else:\n",
    "    print(\"empty list\")\n",
    "\n",
    "print(f\"countries one: {countries_1}\\ncountries two: {countries_2}\")"
   ]
  },
  {
   "cell_type": "code",
   "execution_count": 40,
   "metadata": {},
   "outputs": [
    {
     "data": {
      "text/plain": [
       "97"
      ]
     },
     "execution_count": 40,
     "metadata": {},
     "output_type": "execute_result"
    }
   ],
   "source": [
    "len(countries_1)"
   ]
  },
  {
   "cell_type": "code",
   "execution_count": 41,
   "metadata": {},
   "outputs": [
    {
     "data": {
      "text/plain": [
       "96"
      ]
     },
     "execution_count": 41,
     "metadata": {},
     "output_type": "execute_result"
    }
   ],
   "source": [
    "len(countries_2)"
   ]
  },
  {
   "cell_type": "code",
   "execution_count": 42,
   "metadata": {},
   "outputs": [
    {
     "data": {
      "text/plain": [
       "193"
      ]
     },
     "execution_count": 42,
     "metadata": {},
     "output_type": "execute_result"
    }
   ],
   "source": [
    "len(countries)"
   ]
  },
  {
   "cell_type": "code",
   "execution_count": 43,
   "metadata": {},
   "outputs": [
    {
     "name": "stdout",
     "output_type": "stream",
     "text": [
      "first:China\n",
      "seconD: Russia\n",
      "third USA\n",
      "scandic countries: ['Finland', 'Sweden', 'Norway', 'Denmark']\n"
     ]
    }
   ],
   "source": [
    "cou = ['China', 'Russia', 'USA', 'Finland', 'Sweden', 'Norway', 'Denmark']\n",
    "# Unpack the first three countries and the rest as scandic countries.\n",
    "first, second, third, *scandic_countries = cou\n",
    "print(f\"first:{first}\\nseconD: {second}\\nthird {third}\\nscandic countries: {scandic_countries}\")\n"
   ]
  },
  {
   "cell_type": "markdown",
   "metadata": {},
   "source": [
    "## Tuple Exercises: Level 1\n",
    "1. Create an empty tuple\n",
    "2. Create a tuple containing names of your sisters and your brothers (imaginary siblings are fine)\n",
    "3. Join brothers and sisters tuples and assign it to siblings\n",
    "4. How many siblings do you have?\n",
    "5. Modify the siblings tuple and add the name of your father and mother and assign it to family_members\n"
   ]
  },
  {
   "cell_type": "code",
   "execution_count": 44,
   "metadata": {},
   "outputs": [],
   "source": [
    "# 1. Create an empty tuple\n",
    "empty_tuple = ()\n"
   ]
  },
  {
   "cell_type": "code",
   "execution_count": 46,
   "metadata": {},
   "outputs": [],
   "source": [
    "# 2. Create a tuple containing names of your sisters and your brothers (imaginary siblings are fine)\n",
    "sisters = ('Sakina', 'Samina', 'Faiza', 'Fatima', 'Hadiza')\n",
    "brothers = ('Bello', 'Mubarak', 'Mujahid', 'maaruf', 'Samina', 'Faruk')"
   ]
  },
  {
   "cell_type": "code",
   "execution_count": 49,
   "metadata": {},
   "outputs": [
    {
     "data": {
      "text/plain": [
       "('Sakina',\n",
       " 'Samina',\n",
       " 'Faiza',\n",
       " 'Fatima',\n",
       " 'Hadiza',\n",
       " 'Bello',\n",
       " 'Mubarak',\n",
       " 'Mujahid',\n",
       " 'maaruf',\n",
       " 'Samina',\n",
       " 'Faruk')"
      ]
     },
     "execution_count": 49,
     "metadata": {},
     "output_type": "execute_result"
    }
   ],
   "source": [
    "# 3. Join brothers and sisters tuples and assign it to siblings\n",
    "siblings = sisters + brothers\n",
    "siblings"
   ]
  },
  {
   "cell_type": "code",
   "execution_count": 51,
   "metadata": {},
   "outputs": [
    {
     "name": "stdout",
     "output_type": "stream",
     "text": [
      "I have 11 siblings\n"
     ]
    }
   ],
   "source": [
    "print(f\"I have {len(siblings)} siblings\")"
   ]
  },
  {
   "cell_type": "code",
   "execution_count": null,
   "metadata": {},
   "outputs": [],
   "source": [
    "# 5. Modify the siblings tuple and add the name of your father and mother and assign it to family_members\n",
    "family_members = siblings + ('mummy', 'daddy')\n"
   ]
  },
  {
   "cell_type": "markdown",
   "metadata": {},
   "source": [
    "## Tuple Exercises: Level 2\n",
    "1. Unpack siblings and parents from family_members\n",
    "2. Create fruits, vegetables and animal products tuples. Join the three tuples and assign it to a variable called food_stuff_tp.\n",
    "3. Change the about food_stuff_tp tuple to a food_stuff_lt list\n",
    "4. Slice out the middle item or items from the food_stuff_tp tuple or food_stuff_lt list.\n",
    "5. Slice out the first three items and the last three items from food_staff_lt list\n",
    "6. Delete the food_staff_tp tuple completely\n",
    "7. Check if an item exists in tuple:\n",
    "8. Check if 'Estonia' is a nordic country\n",
    "\n",
    "9. Check if 'Iceland' is a nordic country\n",
    "\n",
    "nordic_countries = ('Denmark', 'Finland','Iceland', 'Norway', 'Sweden')"
   ]
  },
  {
   "cell_type": "code",
   "execution_count": 95,
   "metadata": {},
   "outputs": [
    {
     "name": "stdout",
     "output_type": "stream",
     "text": [
      "mummy\n",
      "daddy\n",
      "['Sakina', 'Samina', 'Faiza', 'Fatima', 'Hadiza', 'Bello', 'Mubarak', 'Mujahid', 'maaruf', 'Samina', 'Faruk']\n",
      "('Sakina', 'Samina', 'Faiza', 'Fatima', 'Hadiza', 'Bello', 'Mubarak', 'Mujahid', 'maaruf', 'Samina', 'Faruk', 'mummy', 'daddy')\n"
     ]
    }
   ],
   "source": [
    "# 1. Unpack siblings and parents from family_members\n",
    "*siblings, Mother, Father = family_members\n",
    "print(Mother)\n",
    "print(Father)\n",
    "print(siblings)\n",
    "print(family_members)"
   ]
  },
  {
   "cell_type": "code",
   "execution_count": null,
   "metadata": {},
   "outputs": [
    {
     "data": {
      "text/plain": [
       "('mango',\n",
       " 'orange',\n",
       " 'wataermelon',\n",
       " 'grapes',\n",
       " 'banana',\n",
       " 'celery',\n",
       " 'cucumber',\n",
       " 'cabbage',\n",
       " 'sring-onion',\n",
       " 'egg',\n",
       " 'meat',\n",
       " 'cheese')"
      ]
     },
     "execution_count": 55,
     "metadata": {},
     "output_type": "execute_result"
    }
   ],
   "source": [
    "# 2. Create fruits, vegetables and animal products tuples. \n",
    "# Join the three tuples and assign it to a variable called food_stuff_tp.\n",
    "\n",
    "fruits = ('mango', 'orange', 'wataermelon', 'grapes', 'banana')\n",
    "vegetables = ('celery', 'cucumber', 'cabbage', 'sring-onion')\n",
    "animal_product = ('egg', 'meat', 'cheese')\n",
    "\n",
    "food_stuff_tp = fruits + vegetables + animal_product\n",
    "food_stuff_tp #tuple"
   ]
  },
  {
   "cell_type": "code",
   "execution_count": null,
   "metadata": {},
   "outputs": [
    {
     "data": {
      "text/plain": [
       "['mango',\n",
       " 'orange',\n",
       " 'wataermelon',\n",
       " 'grapes',\n",
       " 'banana',\n",
       " 'celery',\n",
       " 'cucumber',\n",
       " 'cabbage',\n",
       " 'sring-onion',\n",
       " 'egg',\n",
       " 'meat',\n",
       " 'cheese']"
      ]
     },
     "execution_count": 56,
     "metadata": {},
     "output_type": "execute_result"
    }
   ],
   "source": [
    "# 3. Change the about food_stuff_tp tuple to a food_stuff_lt list\n",
    "food_stuff_lt = list(food_stuff_tp)\n",
    "food_stuff_lt  #list"
   ]
  },
  {
   "cell_type": "code",
   "execution_count": 63,
   "metadata": {},
   "outputs": [
    {
     "name": "stdout",
     "output_type": "stream",
     "text": [
      "('celery', 'cucumber')\n"
     ]
    }
   ],
   "source": [
    "# 4. Slice out the middle item or items from the food_stuff_tp tuple or food_stuff_lt list.\n",
    "len(food_stuff_tp)/2  #finding the index of the middle items\n",
    "\n",
    "print(food_stuff_tp[5:7])  #slicing the middle item"
   ]
  },
  {
   "cell_type": "code",
   "execution_count": 72,
   "metadata": {},
   "outputs": [
    {
     "name": "stdout",
     "output_type": "stream",
     "text": [
      "['mango', 'orange', 'wataermelon']\n",
      "['egg', 'meat', 'cheese']\n"
     ]
    }
   ],
   "source": [
    "# 5. Slice out the first three items and the last three items from food_staff_lt list\n",
    "first_3_items = food_stuff_lt[0:3]\n",
    "print(first_3_items)\n",
    "\n",
    "last_3_items = food_stuff_lt[-3::]\n",
    "print(last_3_items)"
   ]
  },
  {
   "cell_type": "code",
   "execution_count": 73,
   "metadata": {},
   "outputs": [],
   "source": [
    "# 6. Delete the food_staff_tp tuple completely\n",
    "del food_stuff_tp"
   ]
  },
  {
   "cell_type": "code",
   "execution_count": 91,
   "metadata": {},
   "outputs": [],
   "source": [
    "nordic_countries = ('Denmark', 'Finland','Iceland', 'Norway', 'Sweden')\n"
   ]
  },
  {
   "cell_type": "code",
   "execution_count": 93,
   "metadata": {},
   "outputs": [
    {
     "name": "stdout",
     "output_type": "stream",
     "text": [
      "Estonia is not a nordic county\n",
      "Iceland is a nordic country\n"
     ]
    }
   ],
   "source": [
    "# Check if an item exists in tuple:\n",
    "# 8. Check if 'Estonia' is a nordic country\n",
    "if 'Estonia' in nordic_countries:\n",
    "    print('Estonia is a nordic country')\n",
    "else:\n",
    "    print('Estonia is not a nordic county')\n",
    "\n",
    "\n",
    "# 9. Check if 'Iceland' is a nordic country\n",
    "\n",
    "if 'Iceland' in nordic_countries:\n",
    "    print('Iceland is a nordic country')\n",
    "else:\n",
    "    print('Iceland is not a nordic county')"
   ]
  }
 ],
 "metadata": {
  "kernelspec": {
   "display_name": "Python 3",
   "language": "python",
   "name": "python3"
  },
  "language_info": {
   "codemirror_mode": {
    "name": "ipython",
    "version": 3
   },
   "file_extension": ".py",
   "mimetype": "text/x-python",
   "name": "python",
   "nbconvert_exporter": "python",
   "pygments_lexer": "ipython3",
   "version": "3.12.4"
  }
 },
 "nbformat": 4,
 "nbformat_minor": 2
}
