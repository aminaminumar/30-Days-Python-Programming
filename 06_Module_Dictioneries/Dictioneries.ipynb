{
 "cells": [
  {
   "cell_type": "markdown",
   "metadata": {},
   "source": [
    "## Exercises: Module 6\n",
    "1. Create an empty dictionary called dog\n",
    "2. Add name, color, breed, legs, age to the dog dictionary\n",
    "3. Create a student dictionary and add first_name, last_name, gender, age, marital status, skills, country, city and 4. address as keys for the dictionary\n",
    "4. Get the length of the student dictionary\n",
    "5. Get the value of skills and check the data type, it should be a list\n",
    "6. Modify the skills values by adding one or two skills\n",
    "7. Get the dictionary keys as a list\n",
    "8. Get the dictionary values as a list\n",
    "9. Change the dictionary to a list of tuples using items() method\n",
    "10. Delete one of the items in the dictionary\n",
    "11. Delete one of the dictionaries"
   ]
  },
  {
   "cell_type": "code",
   "execution_count": 1,
   "metadata": {},
   "outputs": [],
   "source": [
    "# 1. Create an empty dictionary called dog\n",
    "dog = {}"
   ]
  },
  {
   "cell_type": "code",
   "execution_count": 2,
   "metadata": {},
   "outputs": [],
   "source": [
    "# 2. Add name, color, breed, legs, age to the dog dictionary\n",
    "dog = {'name':'doggy', 'color':'black', 'breed':'hosy', 'age':'10'}"
   ]
  },
  {
   "cell_type": "code",
   "execution_count": 3,
   "metadata": {},
   "outputs": [],
   "source": [
    "# 3. Create a student dictionary and add first_name, last_name, gender, age, marital status, skills, country,\n",
    "# city and 4. address as keys for the dictionary\n",
    "student = {\n",
    "    'first_name': 'Amina',\n",
    "    'last_name': 'Aminu',\n",
    "    'gender': 'female',\n",
    "    'age': 26,\n",
    "    'is_married': True,\n",
    "    'skills': ['javascript', 'html', 'python', 'figma', 'adobeXD'],\n",
    "    'country': 'Nigeria',\n",
    "    'city': 'kaduna',\n",
    "    'address': {'street': 'Doka road', 'house': 2}\n",
    "}"
   ]
  },
  {
   "cell_type": "code",
   "execution_count": 4,
   "metadata": {},
   "outputs": [
    {
     "name": "stdout",
     "output_type": "stream",
     "text": [
      "9\n"
     ]
    }
   ],
   "source": [
    "# 4. Get the length of the student dictionary\n",
    "print(len(student))"
   ]
  },
  {
   "cell_type": "code",
   "execution_count": 6,
   "metadata": {},
   "outputs": [
    {
     "name": "stdout",
     "output_type": "stream",
     "text": [
      "['javascript', 'html', 'python', 'figma', 'adobeXD'] <class 'list'>\n"
     ]
    }
   ],
   "source": [
    "# 5. Get the value of skills and check the data type, it should be a list\n",
    "print(student['skills'], type(student['skills']))"
   ]
  },
  {
   "cell_type": "code",
   "execution_count": 9,
   "metadata": {},
   "outputs": [],
   "source": [
    "# 6. Modify the skills values by adding one or two skills\n",
    "student['skills'].append('JAVA')"
   ]
  },
  {
   "cell_type": "code",
   "execution_count": 15,
   "metadata": {},
   "outputs": [
    {
     "data": {
      "text/plain": [
       "dict_keys(['first_name', 'last_name', 'gender', 'age', 'is_married', 'skills', 'country', 'city', 'address'])"
      ]
     },
     "execution_count": 15,
     "metadata": {},
     "output_type": "execute_result"
    }
   ],
   "source": [
    "dic_keys = (student.keys())\n",
    "dic_keys"
   ]
  },
  {
   "cell_type": "code",
   "execution_count": 16,
   "metadata": {},
   "outputs": [
    {
     "name": "stdout",
     "output_type": "stream",
     "text": [
      "dict_values(['Amina', 'Aminu', 'female', 26, True, ['javascript', 'html', 'python', 'figma', 'adobeXD', 'JAVA'], 'Nigeria', 'kaduna', {'street': 'Doka road', 'house': 2}])\n"
     ]
    }
   ],
   "source": [
    "# 8. Get the dictionary values as a list\n",
    "print(student.values())"
   ]
  },
  {
   "cell_type": "code",
   "execution_count": 18,
   "metadata": {},
   "outputs": [
    {
     "data": {
      "text/plain": [
       "dict_items([('first_name', 'Amina'), ('last_name', 'Aminu'), ('gender', 'female'), ('age', 26), ('is_married', True), ('skills', ['javascript', 'html', 'python', 'figma', 'adobeXD', 'JAVA']), ('country', 'Nigeria'), ('city', 'kaduna'), ('address', {'street': 'Doka road', 'house': 2})])"
      ]
     },
     "execution_count": 18,
     "metadata": {},
     "output_type": "execute_result"
    }
   ],
   "source": [
    "# 9. Change the dictionary to a list of tuples using items() method\n",
    "\n",
    "dic_list = student.items()\n",
    "dic_list"
   ]
  },
  {
   "cell_type": "code",
   "execution_count": 23,
   "metadata": {},
   "outputs": [
    {
     "data": {
      "text/plain": [
       "'Amina'"
      ]
     },
     "execution_count": 23,
     "metadata": {},
     "output_type": "execute_result"
    }
   ],
   "source": [
    "# 10. Delete one of the items in the dictionary\n",
    "student.pop('first_name')\n"
   ]
  },
  {
   "cell_type": "code",
   "execution_count": 25,
   "metadata": {},
   "outputs": [],
   "source": [
    "# 11. Delete one of the dictionaries\n",
    "del dog"
   ]
  }
 ],
 "metadata": {
  "kernelspec": {
   "display_name": "Python 3",
   "language": "python",
   "name": "python3"
  },
  "language_info": {
   "codemirror_mode": {
    "name": "ipython",
    "version": 3
   },
   "file_extension": ".py",
   "mimetype": "text/x-python",
   "name": "python",
   "nbconvert_exporter": "python",
   "pygments_lexer": "ipython3",
   "version": "3.12.4"
  }
 },
 "nbformat": 4,
 "nbformat_minor": 2
}
