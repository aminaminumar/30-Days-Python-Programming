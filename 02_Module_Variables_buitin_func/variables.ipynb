{
 "cells": [
  {
   "cell_type": "markdown",
   "metadata": {},
   "source": [
    "### Exercises: Level 1\n",
    "- Inside 30DaysOfPython create a folder called day_2. Inside this folder create a file named variables.py\n",
    "\n",
    "\n",
    "\n",
    "\n",
    "\n",
    "\n"
   ]
  },
  {
   "cell_type": "code",
   "execution_count": null,
   "metadata": {},
   "outputs": [],
   "source": [
    "# Write a python comment saying 'Day 2: 30 Days of python programming'\n",
    "\n",
    "# 30 Days of Programming"
   ]
  },
  {
   "cell_type": "code",
   "execution_count": 3,
   "metadata": {},
   "outputs": [],
   "source": [
    "# Declare a first name variable and assign a value to it\n",
    "\n",
    "first_name = \"Amina\""
   ]
  },
  {
   "cell_type": "code",
   "execution_count": 4,
   "metadata": {},
   "outputs": [],
   "source": [
    "# Declare a last name variable and assign a value to it\n",
    "last_name = \"Aminu\""
   ]
  },
  {
   "cell_type": "code",
   "execution_count": 5,
   "metadata": {},
   "outputs": [],
   "source": [
    "# Declare a full name variable and assign a value to it\n",
    "full_name = \"Amina Aminu Umar\""
   ]
  },
  {
   "cell_type": "code",
   "execution_count": 6,
   "metadata": {},
   "outputs": [],
   "source": [
    "# Declare a country variable and assign a value to it\n",
    "country = \"Nigeria\""
   ]
  },
  {
   "cell_type": "code",
   "execution_count": 7,
   "metadata": {},
   "outputs": [],
   "source": [
    "# Declare a city variable and assign a value to it"
   ]
  },
  {
   "cell_type": "code",
   "execution_count": 8,
   "metadata": {},
   "outputs": [],
   "source": [
    "# Declare an age variable and assign a value to it\n",
    "age = 299\n",
    "\n",
    "# Declare a year variable and assign a value to it\n",
    "year = 2021"
   ]
  },
  {
   "cell_type": "code",
   "execution_count": 9,
   "metadata": {},
   "outputs": [],
   "source": [
    "# Declare a variable is_married and assign a value to it\n",
    "is_married = True\n",
    "\n",
    "# Declare a variable is_true and assign a value to it\n",
    "is_true = False\n"
   ]
  },
  {
   "cell_type": "code",
   "execution_count": 10,
   "metadata": {},
   "outputs": [],
   "source": [
    "\n",
    "# Declare a variable is_light_on and assign a value to it\n",
    "is_light_on = True\n",
    "\n",
    "# Declare multiple variable on one line\n",
    "hobby, color, course, is_serious = \"Reading\", 'black', 'Python Programming', True"
   ]
  },
  {
   "cell_type": "markdown",
   "metadata": {},
   "source": [
    "### Exercises: Level 2\n",
    "1. Check the data type of all your variables using type() built-in function\n",
    "2. Using the len() built-in function, find the length of your first name\n",
    "3. Compare the length of your first name and your last name\n",
    "4. Declare 5 as num_one and 4 as num_two\n",
    "5. Add num_one and num_two and assign the value to a variable total\n",
    "6. Subtract num_two from num_one and assign the value to a variable diff\n",
    "7. Multiply num_two and num_one and assign the value to a variable product\n",
    "8. Divide num_one by num_two and assign the value to a variable division\n",
    "9. Use modulus division to find num_two divided by num_one and assign the value to a variable remainder\n",
    "10. Calculate num_one to the power of num_two and assign the value to a variable exp\n",
    "11. Find floor division of num_one by num_two and assign the value to a variable floor_division\n",
    "12. The radius of a circle is 30 meters.\n",
    " - Calculate the area of a circle and assign the value to a variable name of area_of_circle\n",
    " - Calculate the circumference of a circle and assign the value to a variable name of circum_of_circle\n",
    " - Take radius as user input and calculate the area.\n",
    "13. Use the built-in input function to get first name, last name, country and age from a user and store the value to their corresponding variable names\n",
    "15. Run help('keywords') in Python shell or in your file to check for the Python reserved words or keywords"
   ]
  },
  {
   "cell_type": "code",
   "execution_count": 11,
   "metadata": {},
   "outputs": [
    {
     "name": "stdout",
     "output_type": "stream",
     "text": [
      "<class 'str'>\n",
      "<class 'str'>\n",
      "<class 'str'>\n",
      "<class 'bool'>\n",
      "<class 'bool'>\n",
      "<class 'bool'>\n",
      "<class 'str'>\n",
      "<class 'str'>\n",
      "<class 'int'>\n",
      "<class 'str'>\n",
      "<class 'int'>\n"
     ]
    }
   ],
   "source": [
    "# Check the data type of all your variables using type() built-in function\n",
    "\n",
    "print(type(first_name))\n",
    "\n",
    "print(type(last_name))\n",
    "print(type(full_name))\n",
    "\n",
    "print(type(is_light_on))\n",
    "print(type(is_married))\n",
    "print(type(is_serious))\n",
    "print(type(color))\n",
    "print(type(country))\n",
    "print(type(age))\n",
    "print(type(course))\n",
    "print(type(year))\n",
    "\n"
   ]
  },
  {
   "cell_type": "code",
   "execution_count": null,
   "metadata": {},
   "outputs": [
    {
     "data": {
      "text/plain": [
       "5"
      ]
     },
     "execution_count": 12,
     "metadata": {},
     "output_type": "execute_result"
    }
   ],
   "source": [
    "# Using the len() built-in function, find the length of your first name\n",
    "len(first_name)"
   ]
  },
  {
   "cell_type": "code",
   "execution_count": 13,
   "metadata": {},
   "outputs": [
    {
     "data": {
      "text/plain": [
       "True"
      ]
     },
     "execution_count": 13,
     "metadata": {},
     "output_type": "execute_result"
    }
   ],
   "source": [
    "# Compare the length of your first name and your last name\n",
    "len(first_name) == len(last_name)"
   ]
  },
  {
   "cell_type": "code",
   "execution_count": 15,
   "metadata": {},
   "outputs": [],
   "source": [
    "# Declare 5 as num_one and 4 as num_two\n",
    "num_one = 5\n",
    "num_two = 4\n",
    "\n",
    "# Add num_one and num_two and assign the value to a variable total\n",
    "total = num_one + num_two\n",
    "\n",
    "# Subtract num_two from num_one and assign the value to a variable diff\n",
    "diff = num_one - num_two\n",
    "\n",
    "# Multiply num_two and num_one and assign the value to a variable product\n",
    "product = num_two * num_one\n",
    "\n",
    "# Divide num_one by num_two and assign the value to a variable division\n",
    "division = num_one / num_two"
   ]
  },
  {
   "cell_type": "code",
   "execution_count": null,
   "metadata": {},
   "outputs": [
    {
     "data": {
      "text/plain": [
       "1"
      ]
     },
     "execution_count": 17,
     "metadata": {},
     "output_type": "execute_result"
    }
   ],
   "source": [
    "# Use modulus division to find num_two divided by num_one and assign the value to a variable remainder\n",
    "remainder = num_two % num_one\n",
    "\n",
    "# Calculate num_one to the power of num_two and assign the value to a variable exp\n",
    "exp = num_one ** num_two\n",
    "\n",
    "# 11. Find floor division of num_one by num_two and assign the value to a variable floor_division\n",
    "floor_division = num_one // num_two\n",
    "\n"
   ]
  },
  {
   "cell_type": "code",
   "execution_count": null,
   "metadata": {},
   "outputs": [
    {
     "data": {
      "text/plain": [
       "2826.9"
      ]
     },
     "execution_count": 19,
     "metadata": {},
     "output_type": "execute_result"
    }
   ],
   "source": [
    "# The radius of a circle is 30 meters.\n",
    "radius = 30\n",
    "\n",
    "# Calculate the area of a circle and assig the value to a variable name of area_of_circle\n",
    "area_of_circle = 3.141 * (radius**2)\n",
    "\n",
    "#  - Calculate the circumference of a circle and assign the value to a variable name of circum_of_circle\n",
    "circum_of_circle = 2 * 3.141 * radius\n",
    "area_of_circle\n"
   ]
  },
  {
   "cell_type": "code",
   "execution_count": 1,
   "metadata": {},
   "outputs": [
    {
     "name": "stdin",
     "output_type": "stream",
     "text": [
      "enter area of circle 20\n"
     ]
    }
   ],
   "source": [
    "#  Take radius as user input and cal\n",
    "# culate the area.\n",
    "radius2 = int(input(\"enter area of circle\"))\n",
    "\n"
   ]
  },
  {
   "cell_type": "code",
   "execution_count": 2,
   "metadata": {},
   "outputs": [
    {
     "data": {
      "text/plain": [
       "1256.4"
      ]
     },
     "execution_count": 2,
     "metadata": {},
     "output_type": "execute_result"
    }
   ],
   "source": [
    "area = 3.141 * (int(radius2)**2)\n",
    "area"
   ]
  },
  {
   "cell_type": "code",
   "execution_count": null,
   "metadata": {},
   "outputs": [],
   "source": [
    "# Use the built-in input function to get first name, last name, country and age from a\n",
    "# user and store the value to their corresponding variable names\n",
    "\n",
    "f_name = input('enter first name')\n",
    "l_name = input('enter last name')\n",
    "countryy = input('enet country')\n",
    "age = input('enter your age')"
   ]
  }
 ],
 "metadata": {
  "kernelspec": {
   "display_name": "Python 3 (ipykernel)",
   "language": "python",
   "name": "python3"
  },
  "language_info": {
   "codemirror_mode": {
    "name": "ipython",
    "version": 3
   },
   "file_extension": ".py",
   "mimetype": "text/x-python",
   "name": "python",
   "nbconvert_exporter": "python",
   "pygments_lexer": "ipython3",
   "version": "3.12.4"
  }
 },
 "nbformat": 4,
 "nbformat_minor": 4
}
