{
 "cells": [
  {
   "cell_type": "markdown",
   "metadata": {},
   "source": [
    "## Exercises: Level 1\n"
   ]
  },
  {
   "cell_type": "markdown",
   "metadata": {},
   "source": [
    "1. Get user input using input(“Enter your age: ”). If user is 18 or older, give feedback: You are old enough to drive. If below 18 give feedback to wait for the missing amount of years. Output:"
   ]
  },
  {
   "cell_type": "code",
   "execution_count": null,
   "metadata": {},
   "outputs": [
    {
     "name": "stdout",
     "output_type": "stream",
     "text": [
      "you are old enough to drive\n"
     ]
    }
   ],
   "source": [
    "age = int(input('Enter your age:'))\n",
    "\n",
    "if age >= 18:\n",
    "    print('You are old enough to drive')\n",
    "else:\n",
    "    print(f\"You need {18 - age} more years to drive\" )"
   ]
  },
  {
   "cell_type": "markdown",
   "metadata": {},
   "source": [
    "2. Compare the values of my_age and your_age using if … else. Who is older (me or you)? Use input(“Enter your age: ”) to get the age as input. You can use a nested condition to print 'year' for 1 year difference in age, 'years' for bigger differences, and a custom text if my_age = your_age. Output:\n",
    "\n"
   ]
  },
  {
   "cell_type": "code",
   "execution_count": 8,
   "metadata": {},
   "outputs": [
    {
     "name": "stdout",
     "output_type": "stream",
     "text": [
      "we are age mates\n"
     ]
    }
   ],
   "source": [
    "my_age = 25\n",
    "your_age = int(input('enter your age:'))\n",
    "\n",
    "if my_age > your_age:\n",
    "    print(f\"I am {my_age - your_age} years older than you\")\n",
    "elif my_age < your_age:\n",
    "    print(f\"You are {your_age - my_age } years older than me\")\n",
    "else:\n",
    "    print(\"we are age mates\")\n"
   ]
  },
  {
   "cell_type": "markdown",
   "metadata": {},
   "source": [
    "3. Get two numbers from the user using input prompt. If a is greater than b return a is greater than b, if a is less b return a is smaller than b, else a is equal to b. Output:\n",
    "\n"
   ]
  },
  {
   "cell_type": "code",
   "execution_count": 9,
   "metadata": {},
   "outputs": [
    {
     "name": "stdout",
     "output_type": "stream",
     "text": [
      "a is greater than b\n"
     ]
    }
   ],
   "source": [
    "a = int(input(\"enter a number a:\"))\n",
    "b = int(input(\"enter a number b:\"))\n",
    "\n",
    "if a > b:\n",
    "    print('a is greater than b')\n",
    "elif a < b:\n",
    "    print('b is greater than a')\n",
    "else:\n",
    "    print('a is equals to b')"
   ]
  },
  {
   "cell_type": "markdown",
   "metadata": {},
   "source": [
    "## Exercises: Level 2\n",
    "\n",
    "1. Write a code which gives grade to students according to theirs scores:\n",
    "\n",
    "- 80-100, A\n",
    "- 70-89, B\n",
    "- 60-69, C\n",
    "- 50-59, D\n",
    "- 0-49, F"
   ]
  },
  {
   "cell_type": "code",
   "execution_count": 13,
   "metadata": {},
   "outputs": [
    {
     "name": "stdout",
     "output_type": "stream",
     "text": [
      "D\n"
     ]
    }
   ],
   "source": [
    "score = float(input(\"Enter your score\"))\n",
    "\n",
    "if score >= 80:\n",
    "    print('A')\n",
    "elif score >= 70:\n",
    "    print('B')\n",
    "elif score >= 60:\n",
    "    print('C')\n",
    "elif score >= 50:\n",
    "    print('D')\n",
    "else:\n",
    "    print('F')"
   ]
  },
  {
   "cell_type": "markdown",
   "metadata": {},
   "source": [
    "2. Check if the season is Autumn, Winter, Spring or Summer. If the user input is: September, October or November, the season is Autumn. December, January or February, the season is Winter. March, April or May, the season is Spring June, July or August, the season is Summer"
   ]
  },
  {
   "cell_type": "code",
   "execution_count": 18,
   "metadata": {},
   "outputs": [
    {
     "name": "stdout",
     "output_type": "stream",
     "text": [
      "we are in Autumn\n"
     ]
    }
   ],
   "source": [
    "month = input('enter month:').strip().lower()\n",
    "\n",
    "if month in ('january', 'febuary', 'december'):\n",
    "    print('we are in winter')\n",
    "elif month in ('march', 'april', 'may'):\n",
    "    print('we are in Spring ')\n",
    "elif month in ('june', 'july', 'august'):\n",
    "    print('we are in Summer')\n",
    "else:\n",
    "    print('we are in Autumn')"
   ]
  },
  {
   "cell_type": "markdown",
   "metadata": {},
   "source": [
    "3. The following list contains some fruits:\n",
    "- fruits = ['banana', 'orange', 'mango', 'lemon']\n",
    "\n",
    "- If a fruit doesn't exist in the list add the fruit to the list and print the modified list.\n",
    "-  If the fruit exists print('That fruit already exist in the list')\n",
    "\n"
   ]
  },
  {
   "cell_type": "code",
   "execution_count": null,
   "metadata": {},
   "outputs": [],
   "source": []
  },
  {
   "cell_type": "code",
   "execution_count": null,
   "metadata": {},
   "outputs": [
    {
     "name": "stdout",
     "output_type": "stream",
     "text": [
      "['banana', 'orange', 'mango', 'lemon', 'watermelon']\n"
     ]
    }
   ],
   "source": [
    "fruits = ['banana', 'orange', 'mango', 'lemon']\n",
    "fruit = input('enter name of fruit')\n",
    "\n",
    "if fruit in fruits:\n",
    "    print('That fruit already exist in the list')\n",
    "else:\n",
    "    fruits.append(fruit)\n",
    "    print(fruits)\n",
    "    "
   ]
  },
  {
   "cell_type": "markdown",
   "metadata": {},
   "source": [
    "## Exercises: Level 3\n",
    "Here we have a person dictionary. Feel free to modify it!\n",
    "        person={\n",
    "    'first_name': 'Asabeneh',\n",
    "    'last_name': 'Yetayeh',\n",
    "    'age': 250,\n",
    "    'country': 'Finland',\n",
    "    'is_marred': True,\n",
    "    'skills': ['JavaScript', 'React', 'Node', 'MongoDB', 'Python'],\n",
    "    'address': {\n",
    "        'street': 'Space street',\n",
    "        'zipcode': '02210'\n",
    "    }\n",
    "    }\n",
    " * Check if the person dictionary has skills key, if so print out the middle skill in the skills list.\n",
    " * Check if the person dictionary has skills key, if so check if the person has 'Python' skill and print out the result.\n",
    " * If a person skills has only JavaScript and React, print('He is a front end developer'), if the person skills has Node, Python, MongoDB, print('He is a backend developer'), if the person skills has React, Node and MongoDB, Print('He is a fullstack developer'), else print('unknown title') - for more accurate results more conditions can be nested!\n",
    " * If the person is married and if he lives in Finland, print the information in the following format:"
   ]
  },
  {
   "cell_type": "code",
   "execution_count": 42,
   "metadata": {},
   "outputs": [],
   "source": [
    "person={\n",
    "    'first_name': 'Asabeneh',\n",
    "    'last_name': 'Yetayeh',\n",
    "    'age': 250,\n",
    "    'country': 'Finland',\n",
    "    'is_marred': True,\n",
    "    'skills': ['JavaScript', 'React', 'Node', 'MongoDB', 'Python'],\n",
    "    'address': {\n",
    "        'street': 'Space street',\n",
    "        'zipcode': '02210'\n",
    "    }\n",
    "    }\n",
    "\n",
    "\n"
   ]
  },
  {
   "cell_type": "code",
   "execution_count": 43,
   "metadata": {},
   "outputs": [
    {
     "name": "stdout",
     "output_type": "stream",
     "text": [
      "Node\n"
     ]
    }
   ],
   "source": [
    "#  * Check if the person dictionary has skills key, if so print out the middle skill in the skills list.\n",
    "\n",
    "if 'skills' in person.keys():            # checks if skills is in person\n",
    "    print(person['skills'][len('skills')//2 -1])    # prints the middle skills\n",
    "else:\n",
    "    print(\"skills is not in person dictionery\")"
   ]
  },
  {
   "cell_type": "code",
   "execution_count": 44,
   "metadata": {},
   "outputs": [
    {
     "name": "stdout",
     "output_type": "stream",
     "text": [
      "You have a python skills\n"
     ]
    }
   ],
   "source": [
    "#  * Check if the person dictionary has skills key, if so check if the person has 'Python' skill and print out the result.\n",
    "\n",
    "if 'skills' in person.keys():\n",
    "    if 'Python' in person['skills']:\n",
    "        print(\"You have a python skills\")\n",
    "    else:\n",
    "        print('you dont have python skills')\n",
    "else:\n",
    "    print('skills is not in person dic')"
   ]
  },
  {
   "cell_type": "code",
   "execution_count": 53,
   "metadata": {},
   "outputs": [
    {
     "name": "stdout",
     "output_type": "stream",
     "text": [
      "He is a fullstack developer\n"
     ]
    }
   ],
   "source": [
    "# If a person skills has only JavaScript and React, print('He is a front end developer'), \n",
    "# if the person skills has Node, Python, MongoDB, print('He is a backend developer'), \n",
    "# if the person skills has React, Node and MongoDB, Print('He is a fullstack developer'), \n",
    "# else print('unknown title') - for more accurate results more conditions can be nested!\n",
    "\n",
    "if 'skills' in person.keys():    #checks if skills is in person\n",
    "    skills = person['skills']     #assign skills to the skill list\n",
    "\n",
    "    if 'Javasript' and 'React' in skills and len(skills) == 2:   #checks if only javascript and react is in skill list\n",
    "        print('He is a frontend developer')\n",
    "    elif 'Node' and 'Python' and 'MongoDB' in skills:           #checks if node and pyhton and mongodb s in list\n",
    "        if 'Node' and 'React' and 'MongoDB' in skills:          #nested if to check to node reack and mpngodb\n",
    "            print('He is a fullstack developer')\n",
    "        else:\n",
    "            print('He is a backend developer')\n",
    "    else:\n",
    "        print('unknown title')\n",
    "    \n"
   ]
  },
  {
   "cell_type": "code",
   "execution_count": 47,
   "metadata": {},
   "outputs": [
    {
     "name": "stdout",
     "output_type": "stream",
     "text": [
      "Asabeneh Yetayeh lives in Finland. He is Married\n"
     ]
    }
   ],
   "source": [
    "#  * If the person is married and if he lives in Finland, print the information in the following format:\n",
    "\n",
    "if person['is_marred'] == True and person['country'] == 'Finland':\n",
    "    print(f\"{person['first_name']} {person['last_name']} lives in {person['country']}. He is Married\")\n",
    "else:\n",
    "    print(\"Not true\")\n"
   ]
  }
 ],
 "metadata": {
  "kernelspec": {
   "display_name": "Python 3",
   "language": "python",
   "name": "python3"
  },
  "language_info": {
   "codemirror_mode": {
    "name": "ipython",
    "version": 3
   },
   "file_extension": ".py",
   "mimetype": "text/x-python",
   "name": "python",
   "nbconvert_exporter": "python",
   "pygments_lexer": "ipython3",
   "version": "3.12.4"
  }
 },
 "nbformat": 4,
 "nbformat_minor": 2
}
