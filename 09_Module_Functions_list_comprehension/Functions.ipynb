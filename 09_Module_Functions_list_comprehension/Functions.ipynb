{
 "cells": [
  {
   "cell_type": "markdown",
   "metadata": {},
   "source": [
    "1. Declare a function add_two_numbers. It takes two parameters and it returns a sum.\n",
    "2. Area of a circle is calculated as follows: area = π x r x r. Write a function that calculates area_of_circle.\n",
    "3. Write a function called add_all_nums which takes arbitrary number of arguments and sums all the arguments. Check if all the list items are number types. If not do give a reasonable feedback.\n",
    "4. Temperature in °C can be converted to °F using this formula: °F = (°C x 9/5) + 32. Write a function which converts °C to °F, convert_celsius_to-fahrenheit.\n",
    "5. Write a function called check-season, it takes a month parameter and returns the season: Autumn, Winter, Spring or Summer.\n",
    "6. Write a function called calculate_slope which return the slope of a linear equation\n",
    "7. Quadratic equation is calculated as follows: ax² + bx + c = 0. Write a function which calculates solution set of a quadratic equation, solve_quadratic_eqn.\n",
    "9. Declare a function named print_list. It takes a list as a parameter and it prints out each element of the list."
   ]
  },
  {
   "cell_type": "code",
   "execution_count": 4,
   "metadata": {},
   "outputs": [
    {
     "data": {
      "text/plain": [
       "6"
      ]
     },
     "execution_count": 4,
     "metadata": {},
     "output_type": "execute_result"
    }
   ],
   "source": [
    "# 1. Declare a function add_two_numbers. It takes two parameters and it returns a sum.\n",
    "\n",
    "def add_two_numbers(num1, num2):\n",
    "    sum = num1 + num2\n",
    "    return sum\n",
    "\n",
    "add_two_numbers(2, 4)"
   ]
  },
  {
   "cell_type": "code",
   "execution_count": 6,
   "metadata": {},
   "outputs": [
    {
     "data": {
      "text/plain": [
       "153.86"
      ]
     },
     "execution_count": 6,
     "metadata": {},
     "output_type": "execute_result"
    }
   ],
   "source": [
    "# 2. Area of a circle is calculated as follows: area = π x r x r. Write a function that calculates area_of_circle.\n",
    "def area_circle(r):\n",
    "    area = 3.14 * r * r\n",
    "    return area\n",
    "\n",
    "area_circle(7)"
   ]
  },
  {
   "cell_type": "code",
   "execution_count": 12,
   "metadata": {},
   "outputs": [
    {
     "data": {
      "text/plain": [
       "66"
      ]
     },
     "execution_count": 12,
     "metadata": {},
     "output_type": "execute_result"
    }
   ],
   "source": [
    "# 3. Write a function called add_all_nums which takes arbitrary number of arguments and \n",
    "# sums all the arguments. Check if all the list items are number types. If not do give a reasonable feedback.\n",
    "def add_all_num(*num):\n",
    "    sum = 0\n",
    "    for i in num:\n",
    "        if isinstance(i, (int, float)):    #checks if the number type is correct\n",
    "            sum += i\n",
    "        else:\n",
    "            return \"not a number\"\n",
    "    return sum\n",
    "\n",
    "add_all_num(3, 45,5,6, 7)"
   ]
  },
  {
   "cell_type": "code",
   "execution_count": 15,
   "metadata": {},
   "outputs": [
    {
     "data": {
      "text/plain": [
       "'73.4°F'"
      ]
     },
     "execution_count": 15,
     "metadata": {},
     "output_type": "execute_result"
    }
   ],
   "source": [
    "# 4. Temperature in °C can be converted to °F using this formula: °F = (°C x 9/5) + 32.\n",
    "# Write a function which converts °C to °F, convert_celsius_to-fahrenheit.\n",
    "\n",
    "def convert_celcius_to_fahrenheit(c):\n",
    "    Fahrenheit = (c * 9/5) + 32\n",
    "    return f\"{Fahrenheit}°F\"\n",
    "convert_celcius_to_fahrenheit(23)"
   ]
  },
  {
   "cell_type": "code",
   "execution_count": 18,
   "metadata": {},
   "outputs": [
    {
     "data": {
      "text/plain": [
       "'Summer'"
      ]
     },
     "execution_count": 18,
     "metadata": {},
     "output_type": "execute_result"
    }
   ],
   "source": [
    "# 5. Write a function called check-season, it takes a month parameter and returns the\n",
    "# season: Autumn, Winter, Spring or Summer.\n",
    "def check_season(month):\n",
    "    if month in ('January', 'February', 'December'):\n",
    "        return \"Winter\"\n",
    "    elif month in ('March', 'April', 'May'):\n",
    "        return \"Spring\"\n",
    "    elif month in ('June', 'July', 'August'):\n",
    "        return \"Summer\"\n",
    "    elif month in ('September', 'October', 'November'):\n",
    "        return \"Autumn\"\n",
    "    else:\n",
    "        return \"invalid month\"\n",
    "    \n",
    "check_season('July')"
   ]
  },
  {
   "cell_type": "code",
   "execution_count": 28,
   "metadata": {},
   "outputs": [
    {
     "data": {
      "text/plain": [
       "'vertical line'"
      ]
     },
     "execution_count": 28,
     "metadata": {},
     "output_type": "execute_result"
    }
   ],
   "source": [
    "# 6. Write a function called calculate_slope which return the slope of a linear equation\n",
    "# eqn = mx + c, slope = m or slope = (y2 - y1)/(x2-x1)\n",
    "\n",
    "def calculate_slope(x1, y1, x2, y2):\n",
    "    if x1 == x2:\n",
    "        return \"vertical line\"\n",
    "    slope = (y2 - y1)/(x2-x1)\n",
    "    return slope\n",
    "\n",
    "calculate_slope(1, 4, 1, 3)"
   ]
  },
  {
   "cell_type": "code",
   "execution_count": 47,
   "metadata": {},
   "outputs": [
    {
     "data": {
      "text/plain": [
       "'Two real solution: 2.0, 1.0'"
      ]
     },
     "execution_count": 47,
     "metadata": {},
     "output_type": "execute_result"
    }
   ],
   "source": [
    "# 7. Quadratic equation is calculated as follows: ax² + bx + c = 0. \n",
    "# Write a function which calculates solution set of a quadratic equation, solve_quadratic_eqn.\n",
    "#discriminant = b**2 - (4*a*c)\n",
    "import math\n",
    "\n",
    "def solve_quadratic_eqn(a, b, c):\n",
    "    #checks if a == 0. not a quadratic eqn\n",
    "    if a == 0:\n",
    "        return \"Not a quadratic equation\"\n",
    "    #finding the discriminant\n",
    "    discriminant = b**2 - (4*a*c)\n",
    "\n",
    "    #checks for real, single or complex solution\n",
    "    if discriminant > 0:\n",
    "        x1 = (-b + math.sqrt(discriminant))/2*a\n",
    "        x2 = (-b - math.sqrt(discriminant))/2*a\n",
    "        return f\"Two real solution: {x1}, {x2}\"\n",
    "    \n",
    "    elif discriminant == 0:\n",
    "        x = (-b + math.sqrt(discriminant))/2*a\n",
    "        return f\"Single solution: {x}\"\n",
    "    \n",
    "    else:\n",
    "        real_part = -b / (2 * a)\n",
    "        imaginary_part = math.sqrt(-discriminant) / (2 * a)\n",
    "        root1 = f\"{real_part} + {imaginary_part}i\"\n",
    "        root2 = f\"{real_part} - {imaginary_part}i\"\n",
    "        return f\"Two complex solutions: {root1} and {root2}\"\n",
    "\n",
    "solve_quadratic_eqn(1, -3, 2)"
   ]
  },
  {
   "cell_type": "code",
   "execution_count": 60,
   "metadata": {},
   "outputs": [
    {
     "name": "stdout",
     "output_type": "stream",
     "text": [
      "mango\n",
      "aplle\n",
      "pumpkin\n",
      "2\n",
      "4\n"
     ]
    }
   ],
   "source": [
    "# 8. Declare a function named print_list. It takes a list as a parameter and it prints out each element of the list.\n",
    "\n",
    "def print_list(a):\n",
    "    for i in a:\n",
    "        print(i)   \n",
    "\n",
    "print_list(['mango', 'aplle', 'pumpkin', 2, 4])"
   ]
  },
  {
   "cell_type": "markdown",
   "metadata": {},
   "source": [
    "9. Declare a function named reverse_list. It takes an array as a parameter and it returns the reverse of the array (use loops).\n",
    "print(reverse_list([1, 2, 3, 4, 5]))\n",
    "#### [5, 4, 3, 2, 1]\n",
    "print(reverse_list1([\"A\", \"B\", \"C\"]))\n",
    "#### [\"C\", \"B\", \"A\"]"
   ]
  },
  {
   "cell_type": "code",
   "execution_count": 79,
   "metadata": {},
   "outputs": [
    {
     "name": "stdout",
     "output_type": "stream",
     "text": [
      "[5, 4, 3, 2, 1]\n"
     ]
    },
    {
     "data": {
      "text/plain": [
       "['D', 'C', 'B', 'A']"
      ]
     },
     "execution_count": 79,
     "metadata": {},
     "output_type": "execute_result"
    }
   ],
   "source": [
    "def reverse_list(lst):\n",
    "\n",
    "    reversed_list = []\n",
    "    for item in lst:\n",
    "        reversed_list.append(item)\n",
    "    return reversed_list[::-1]\n",
    "\n",
    "    \n",
    "print(reverse_list([1,2,3,4,5]))\n",
    "reverse_list(['A','B','C','D'])\n",
    "\n"
   ]
  },
  {
   "cell_type": "code",
   "execution_count": 84,
   "metadata": {},
   "outputs": [
    {
     "data": {
      "text/plain": [
       "['MANGO', 'BANANA', 'AMINA']"
      ]
     },
     "execution_count": 84,
     "metadata": {},
     "output_type": "execute_result"
    }
   ],
   "source": [
    "# 10. Declare a function named capitalize_list_items. It takes a list as a parameter\n",
    "# and it returns a capitalized list of items\n",
    "\n",
    "def capitalize_list_items(s):\n",
    "    capitalized_list = []\n",
    "    for item in s:\n",
    "        capitalized_list.append(item.upper())\n",
    "    return capitalized_list\n",
    "\n",
    "capitalize_list_items(['mango', 'banana', 'amina'])"
   ]
  },
  {
   "cell_type": "markdown",
   "metadata": {},
   "source": [
    "11. Declare a function named add_item. It takes a list and an item parameters. It returns a list with the item added at the end.\n",
    "- food_staff = ['Potato', 'Tomato', 'Mango', 'Milk']\n",
    "- print(add_item(food_staff, 'Meat'))     # ['Potato', 'Tomato', 'Mango', 'Milk','Meat']\n",
    "- numbers = [2, 3, 7, 9]\n",
    "- print(add_item(numbers, 5))      [2, 3, 7, 9, 5]"
   ]
  },
  {
   "cell_type": "code",
   "execution_count": 94,
   "metadata": {},
   "outputs": [
    {
     "name": "stdout",
     "output_type": "stream",
     "text": [
      "['Potato', 'Tomato', 'Mango', 'Milk', 'Orange']\n",
      "[2, 3, 7, 9, 11]\n"
     ]
    }
   ],
   "source": [
    "def add_item(lst, item):\n",
    "    lst.append(item)\n",
    "    return lst\n",
    "\n",
    "\n",
    "food_stuff = ['Potato', 'Tomato', 'Mango', 'Milk']\n",
    "print(add_item(food_stuff, \"Orange\"))\n",
    "\n",
    "numbers = [2, 3, 7, 9]\n",
    "print(add_item(numbers, 11))"
   ]
  },
  {
   "cell_type": "markdown",
   "metadata": {},
   "source": [
    "12. Declare a function named remove_item. It takes a list and an item parameters. It returns a list with the item removed from it.\n",
    "- food_staff = ['Potato', 'Tomato', 'Mango', 'Milk']\n",
    "- print(remove_item(food_staff, 'Mango'))  # ['Potato', 'Tomato', 'Milk'];\n",
    "- numbers = [2, 3, 7, 9]\n",
    "- print(remove_item(numbers, 3))  # [2, 7, 9]"
   ]
  },
  {
   "cell_type": "code",
   "execution_count": 104,
   "metadata": {},
   "outputs": [
    {
     "name": "stdout",
     "output_type": "stream",
     "text": [
      "['Tomato', 'Mango', 'Milk']\n",
      "[2, 7, 9]\n"
     ]
    }
   ],
   "source": [
    "def remove_item(lst, parameter):\n",
    "    if parameter in lst:\n",
    "        lst.remove(parameter)\n",
    "        return lst\n",
    "    else:\n",
    "        return \"Item not found\"\n",
    "\n",
    "\n",
    "food_stuff = ['Potato', 'Tomato', 'Mango', 'Milk']\n",
    "print(remove_item(food_stuff, 'Potato'))\n",
    "\n",
    "numbers = [2, 3, 7, 9]\n",
    "print(remove_item(numbers, 3))"
   ]
  },
  {
   "cell_type": "code",
   "execution_count": 105,
   "metadata": {},
   "outputs": [
    {
     "name": "stdout",
     "output_type": "stream",
     "text": [
      "Item not found\n"
     ]
    }
   ],
   "source": [
    "numbers = [2, 3, 7, 9]\n",
    "print(remove_item(numbers, 0))"
   ]
  },
  {
   "cell_type": "markdown",
   "metadata": {},
   "source": [
    "13. Declare a function named sum_of_numbers. It takes a number parameter and it adds all the numbers in that range.\n",
    "- print(sum_of_numbers(5))  # 15\n",
    "- print(sum_of_numbers(10)) # 55\n",
    "- print(sum_of_numbers(100)) # 5050"
   ]
  },
  {
   "cell_type": "code",
   "execution_count": 110,
   "metadata": {},
   "outputs": [
    {
     "name": "stdout",
     "output_type": "stream",
     "text": [
      "15\n",
      "55\n",
      "5050\n"
     ]
    }
   ],
   "source": [
    "def sum_of_numbers(num):\n",
    "    sum = 0\n",
    "    for i in range(num + 1):\n",
    "        sum += i\n",
    "    return sum\n",
    "\n",
    "print(sum_of_numbers(5))\n",
    "print(sum_of_numbers(10)) \n",
    "print(sum_of_numbers(100)) "
   ]
  },
  {
   "cell_type": "code",
   "execution_count": 113,
   "metadata": {},
   "outputs": [
    {
     "data": {
      "text/plain": [
       "4"
      ]
     },
     "execution_count": 113,
     "metadata": {},
     "output_type": "execute_result"
    }
   ],
   "source": [
    "# 14. Declare a function named sum_of_odds. It takes a number parameter and it adds all the odd numbers in that range.\n",
    "\n",
    "def sum_of_odds(num):\n",
    "    sum = 0\n",
    "    for i in range(num + 1):\n",
    "        if i % 2 != 0:\n",
    "            sum += i\n",
    "    return sum\n",
    "\n",
    "sum_of_odds(3)"
   ]
  },
  {
   "cell_type": "code",
   "execution_count": 115,
   "metadata": {},
   "outputs": [
    {
     "data": {
      "text/plain": [
       "6"
      ]
     },
     "execution_count": 115,
     "metadata": {},
     "output_type": "execute_result"
    }
   ],
   "source": [
    "# 15. Declare a function named sum_of_even. It takes a number parameter and it adds all the even numbers in that - range.\n",
    "def sum_of_even(num):\n",
    "    sum = 0\n",
    "    for i in range(num + 1):\n",
    "        if i % 2 == 0:\n",
    "            sum += i\n",
    "    return sum\n",
    "\n",
    "sum_of_even(4\n",
    "            )"
   ]
  },
  {
   "cell_type": "markdown",
   "metadata": {},
   "source": [
    "## Exercises: Level 2\n",
    "1. Declare a function named evens_and_odds . It takes a positive integer as parameter and it counts number of evens and odds in the number.\n",
    "    - print(evens_and_odds(100))\n",
    "    ##### The number of odds are 50.\n",
    "    ##### The number of evens are 51."
   ]
  },
  {
   "cell_type": "code",
   "execution_count": 127,
   "metadata": {},
   "outputs": [
    {
     "name": "stdout",
     "output_type": "stream",
     "text": [
      "The number of odds are 50\n",
      "The Number of even are 51\n"
     ]
    }
   ],
   "source": [
    "def even_and_odd(integer):\n",
    "    count_even = 0\n",
    "    count_odd = 0\n",
    "    for i in range(integer +1):\n",
    "        if i % 2 == 0:\n",
    "            count_even += 1\n",
    "        else:\n",
    "            count_odd += 1\n",
    "    return f\"The number of odds are {count_odd}\\nThe Number of even are {count_even}\"\n",
    "print(even_and_odd(100))"
   ]
  },
  {
   "cell_type": "code",
   "execution_count": 132,
   "metadata": {},
   "outputs": [
    {
     "name": "stdout",
     "output_type": "stream",
     "text": [
      "24\n"
     ]
    }
   ],
   "source": [
    "# Call your function factorial, it takes a whole number as a parameter and it return a factorial of the number\n",
    "def factorial(n):\n",
    "    factorial_n = 1\n",
    "    for i in range(factorial_n, n+1):\n",
    "        factorial_n *= i\n",
    "    return factorial_n\n",
    "\n",
    "print(factorial(4))"
   ]
  },
  {
   "cell_type": "code",
   "execution_count": 149,
   "metadata": {},
   "outputs": [
    {
     "name": "stdout",
     "output_type": "stream",
     "text": [
      "True\n"
     ]
    },
    {
     "data": {
      "text/plain": [
       "False"
      ]
     },
     "execution_count": 149,
     "metadata": {},
     "output_type": "execute_result"
    }
   ],
   "source": [
    "# Call your function is_empty, it takes a parameter and it checks if it is empty or not\n",
    "def is_empty(l):\n",
    "    if not l:\n",
    "        return True\n",
    "    return False\n",
    "\n",
    "print(is_empty([]))\n",
    "is_empty([1,2,3])"
   ]
  },
  {
   "cell_type": "code",
   "execution_count": 145,
   "metadata": {},
   "outputs": [
    {
     "name": "stdout",
     "output_type": "stream",
     "text": [
      "mean: 0.6\n",
      "median:6\n",
      "range_lst:9\n",
      "variance:9.166666666666666\n",
      "standard deviation:3.0276503540974917\n"
     ]
    }
   ],
   "source": [
    "# Write different functions which take lists. They should calculate_mean,calculate_median calculate_mode,\n",
    "# calculate_range, calculate_variance, calculate_std (standard deviation).\n",
    "import statistics as stat\n",
    "def calculate_stat(lst):\n",
    "    mean = lst[len(lst)//2]/len(lst)\n",
    "    median = lst[len(lst)//2]\n",
    "    # mode = lst.mode()\n",
    "    range_lst = max(lst) - min(lst)\n",
    "    variance_lst = stat.variance(lst)\n",
    "    standard_deviation = stat.stdev(lst)\n",
    "\n",
    "    return f\"mean: {mean}\\nmedian:{median}\\nrange_lst:{range_lst}\\nvariance:{variance_lst}\\nstandard deviation:{standard_deviation}\"\n",
    "\n",
    "print(calculate_stat([1,2,3,4,5,6,7,8,9,0]))"
   ]
  },
  {
   "cell_type": "code",
   "execution_count": 158,
   "metadata": {},
   "outputs": [
    {
     "data": {
      "text/plain": [
       "'mean:2.5, median:<function median at 0x0000017652808D60>,mode:1,range:3,variance:1.6666666666666667,std:1.2909944487358056'"
      ]
     },
     "execution_count": 158,
     "metadata": {},
     "output_type": "execute_result"
    }
   ],
   "source": [
    "import statistics as stat\n",
    "def calculate_mean(lst):\n",
    "    return sum(lst)/len(lst)\n",
    "\n",
    "def calculate_median(lst):\n",
    "    return stat.median\n",
    "\n",
    "def calculate_mode(lst):\n",
    "    return stat.mode(lst)\n",
    "\n",
    "def calculate_range(lst):\n",
    "    return max(lst) - min(lst)\n",
    "\n",
    "def calculate_variance(lst):\n",
    "    return stat.variance(lst)\n",
    "\n",
    "def calculate_std(lst):\n",
    "    return stat.stdev(lst)\n",
    "\n",
    "\n",
    "def Statistics_calculation(lst):\n",
    "    mean = calculate_mean(lst)\n",
    "    median = calculate_median(lst)\n",
    "    mode = calculate_mode(lst)\n",
    "    rangez = calculate_range(lst)\n",
    "    variance = calculate_variance(lst)\n",
    "    standard_deviation = calculate_std(lst)\n",
    "\n",
    "    return f\"mean:{mean}, median:{median},mode:{mode},range:{rangez},variance:{variance},std:{standard_deviation}\"\n",
    "            \n",
    "\n",
    "Statistics_calculation([1,2,3,4])"
   ]
  },
  {
   "cell_type": "markdown",
   "metadata": {},
   "source": [
    "## Exercises: Level 3\n",
    "1. Write a function called is_prime, which checks if a number is prime.\n",
    "2. Write a functions which checks if all items are unique in the list.\n",
    "3. Write a function which checks if all the items of the list are of the same data type.\n",
    "4. Write a function which check if provided variable is a valid python variable\n",
    "5. Go to the data folder and access the countries-data.py file.\n",
    "6. Create a function called the most_spoken_languages in the world. It should return 10 or 20 most spoken languages in the world in descending order\n",
    "7. Create a function called the most_populated_countries. It should return 10 or 20 most populated countries in descending order."
   ]
  },
  {
   "cell_type": "code",
   "execution_count": 170,
   "metadata": {},
   "outputs": [
    {
     "name": "stdout",
     "output_type": "stream",
     "text": [
      "True\n"
     ]
    }
   ],
   "source": [
    "# 1. Write a function called is_prime, which checks if a number is prime.\n",
    "def is_prime(p):\n",
    "    if p < 1:\n",
    "        return 'number less than 1'\n",
    "    for i in range(2, int(p**0.5)+1):     #checks for divisibility up to sqrt of p\n",
    "        if p % 1 == 0:\n",
    "            return True\n",
    "    return False\n",
    "\n",
    "print(is_prime(11))"
   ]
  },
  {
   "cell_type": "code",
   "execution_count": 175,
   "metadata": {},
   "outputs": [
    {
     "data": {
      "text/plain": [
       "False"
      ]
     },
     "execution_count": 175,
     "metadata": {},
     "output_type": "execute_result"
    }
   ],
   "source": [
    "# 2. Write a functions which checks if all items are unique in the list.\n",
    "def check_if_unuque(lst):\n",
    "    return len(lst) == len(set(lst))\n",
    "\n",
    "check_if_unuque([1,2,3,1,4])"
   ]
  },
  {
   "cell_type": "code",
   "execution_count": 186,
   "metadata": {},
   "outputs": [
    {
     "name": "stdout",
     "output_type": "stream",
     "text": [
      "True\n"
     ]
    }
   ],
   "source": [
    "# 3. Write a function which checks if all the items of the list are of the same data type.\n",
    "def same_type(lst):\n",
    "    if not lst:\n",
    "        return True   #am empty list is of same type\n",
    "    first_item = type(lst[0])\n",
    "    for item in lst:\n",
    "        if type(item) != first_item:\n",
    "            return False\n",
    "\n",
    "    return True\n",
    "        \n",
    "print(same_type([1,2,3,4]))"
   ]
  },
  {
   "cell_type": "code",
   "execution_count": null,
   "metadata": {},
   "outputs": [],
   "source": [
    "# 4. Write a function which check if provided variable is a valid python variable\n"
   ]
  }
 ],
 "metadata": {
  "kernelspec": {
   "display_name": "Python 3",
   "language": "python",
   "name": "python3"
  },
  "language_info": {
   "codemirror_mode": {
    "name": "ipython",
    "version": 3
   },
   "file_extension": ".py",
   "mimetype": "text/x-python",
   "name": "python",
   "nbconvert_exporter": "python",
   "pygments_lexer": "ipython3",
   "version": "3.12.4"
  }
 },
 "nbformat": 4,
 "nbformat_minor": 2
}
