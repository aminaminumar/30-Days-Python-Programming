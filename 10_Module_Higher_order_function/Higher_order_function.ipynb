{
 "cells": [
  {
   "cell_type": "markdown",
   "metadata": {},
   "source": [
    "### Map Function"
   ]
  },
  {
   "cell_type": "code",
   "execution_count": 7,
   "metadata": {},
   "outputs": [
    {
     "name": "stdout",
     "output_type": "stream",
     "text": [
      "[2, 4, 6, 8]\n"
     ]
    }
   ],
   "source": [
    "number = [1,2,3,4]\n",
    "\n",
    "#function to double the number\n",
    "\n",
    "def double_num(x):\n",
    "    return x * 2\n",
    "\n",
    "#apply map function\n",
    "result = map(double_num, number)\n",
    "\n",
    "print(list(result))"
   ]
  },
  {
   "cell_type": "markdown",
   "metadata": {},
   "source": [
    "### Filter Function"
   ]
  },
  {
   "cell_type": "code",
   "execution_count": 4,
   "metadata": {},
   "outputs": [
    {
     "name": "stdout",
     "output_type": "stream",
     "text": [
      "[2, 4, 6, 8, 0]\n"
     ]
    }
   ],
   "source": [
    "numbers = [1,2,3,4,5,6,7,8,9,0]\n",
    "\n",
    "#function to check if a number is even\n",
    "def is_even(x):\n",
    "    return x % 2 == 0\n",
    "\n",
    "#use filter function to show only even numbers\n",
    "result = filter(is_even, numbers)\n",
    "\n",
    "#convert to list to see items\n",
    "print(list(result))"
   ]
  },
  {
   "cell_type": "markdown",
   "metadata": {},
   "source": [
    "### Reduce Function"
   ]
  },
  {
   "cell_type": "code",
   "execution_count": 9,
   "metadata": {},
   "outputs": [
    {
     "name": "stdout",
     "output_type": "stream",
     "text": [
      "24\n"
     ]
    }
   ],
   "source": [
    "from functools import reduce\n",
    "\n",
    "#function to multiply\n",
    "def multiply(x, y):\n",
    "    return x * y\n",
    "\n",
    "#use reduce to find the product of numbers\n",
    "result = reduce(multiply, number)\n",
    "\n",
    "print(result)"
   ]
  },
  {
   "cell_type": "code",
   "execution_count": 10,
   "metadata": {},
   "outputs": [],
   "source": [
    "# countries = ['Estonia', 'Finland', 'Sweden', 'Denmark', 'Norway', 'Iceland']\n",
    "names = ['Asabeneh', 'Lidiya', 'Ermias', 'Abraham']\n",
    "numbers = [1, 2, 3, 4, 5, 6, 7, 8, 9, 10]"
   ]
  },
  {
   "cell_type": "code",
   "execution_count": 17,
   "metadata": {},
   "outputs": [
    {
     "name": "stdout",
     "output_type": "stream",
     "text": [
      "Estonia\n",
      "Finland\n",
      "Sweden\n",
      "Denmark\n",
      "Norway\n",
      "Iceland\n"
     ]
    }
   ],
   "source": [
    "# Use for loop to print each country in the countries list.\n",
    "# def print_item(countries):\n",
    "for item in countries:\n",
    "    print(item)\n",
    "\n",
    "#use map to print each item\n",
    "# country = map(print_item, countries)\n",
    "\n",
    "#convert to list to print items\n",
    "# print(list(country))"
   ]
  },
  {
   "cell_type": "code",
   "execution_count": 18,
   "metadata": {},
   "outputs": [
    {
     "name": "stdout",
     "output_type": "stream",
     "text": [
      "Asabeneh\n",
      "Lidiya\n",
      "Ermias\n",
      "Abraham\n"
     ]
    }
   ],
   "source": [
    "# Use for to print each name in the names list.\n",
    "for name in names:\n",
    "    print(name)"
   ]
  },
  {
   "cell_type": "code",
   "execution_count": 20,
   "metadata": {},
   "outputs": [
    {
     "name": "stdout",
     "output_type": "stream",
     "text": [
      "1\n",
      "2\n",
      "3\n",
      "4\n",
      "5\n",
      "6\n",
      "7\n",
      "8\n",
      "9\n",
      "10\n"
     ]
    }
   ],
   "source": [
    "# Use for to print each number in the numbers list.\n",
    "for num in numbers:\n",
    "    print(num)"
   ]
  },
  {
   "cell_type": "code",
   "execution_count": 22,
   "metadata": {},
   "outputs": [
    {
     "name": "stdout",
     "output_type": "stream",
     "text": [
      "['ESTONIA', 'FINLAND', 'SWEDEN', 'DENMARK', 'NORWAY', 'ICELAND']\n"
     ]
    }
   ],
   "source": [
    "# Use map to create a new list by changing each country to uppercase in the countries list\n",
    "#create a function to change to upper\n",
    "\n",
    "def change_to_upper(coun):\n",
    "    return coun.upper()\n",
    "\n",
    "Upper_countries = map(change_to_upper, countries)\n",
    "\n",
    "print(list(Upper_countries))"
   ]
  },
  {
   "cell_type": "code",
   "execution_count": 24,
   "metadata": {},
   "outputs": [
    {
     "name": "stdout",
     "output_type": "stream",
     "text": [
      "[1, 4, 9, 16, 25, 36, 49, 64, 81, 100]\n"
     ]
    }
   ],
   "source": [
    "# Use map to create a new list by changing each number to its square in the numbers list\n",
    "def square(x):\n",
    "    return x**2\n",
    "\n",
    "squared = map(square, numbers)\n",
    "\n",
    "print(list(squared))"
   ]
  },
  {
   "cell_type": "code",
   "execution_count": 25,
   "metadata": {},
   "outputs": [
    {
     "name": "stdout",
     "output_type": "stream",
     "text": [
      "['ASABENEH', 'LIDIYA', 'ERMIAS', 'ABRAHAM']\n"
     ]
    }
   ],
   "source": [
    "# Use map to change each name to uppercase in the names list\n",
    "upper_names = map(lambda name: name.upper(), names)\n",
    "print(list(upper_names))"
   ]
  },
  {
   "cell_type": "code",
   "execution_count": 33,
   "metadata": {},
   "outputs": [
    {
     "name": "stdout",
     "output_type": "stream",
     "text": [
      "['Finland', 'Iceland']\n"
     ]
    }
   ],
   "source": [
    "# Use filter to filter out countries containing 'land'.\n",
    "#function to filter countries containing land\n",
    "\n",
    "def countaining_land(countries):\n",
    "    if 'land' in countries:\n",
    "        return True\n",
    "    else:\n",
    "        return False\n",
    "countries_containing_land = filter(countaining_land, countries)\n",
    "print(list(countries_containing_land))"
   ]
  },
  {
   "cell_type": "code",
   "execution_count": 34,
   "metadata": {},
   "outputs": [
    {
     "name": "stdout",
     "output_type": "stream",
     "text": [
      "['Sweden', 'Norway']\n"
     ]
    }
   ],
   "source": [
    "# Use filter to filter out countries having exactly six characters.\n",
    "def character_check(countries):\n",
    "    if len(countries) == 6:\n",
    "        return True\n",
    "    else:\n",
    "        return False\n",
    "    \n",
    "country_with_6char = filter(character_check, countries)\n",
    "print(list(country_with_6char))\n"
   ]
  },
  {
   "cell_type": "code",
   "execution_count": 35,
   "metadata": {},
   "outputs": [
    {
     "name": "stdout",
     "output_type": "stream",
     "text": [
      "['Estonia', 'Finland', 'Sweden', 'Denmark', 'Norway', 'Iceland']\n"
     ]
    }
   ],
   "source": [
    "# Use filter to filter out countries containing six letters and more in the country list.\n",
    "# Use filter to filter out countries having exactly six characters.\n",
    "def character_check2(countries):\n",
    "    if len(countries) >= 6:\n",
    "        return True\n",
    "    else:\n",
    "        return False\n",
    "    \n",
    "country_6char = filter(character_check2, countries)\n",
    "print(list(country_6char))\n"
   ]
  },
  {
   "cell_type": "code",
   "execution_count": 36,
   "metadata": {},
   "outputs": [
    {
     "name": "stdout",
     "output_type": "stream",
     "text": [
      "['Estonia']\n"
     ]
    }
   ],
   "source": [
    "# Function to check if a country starts with 'E'\n",
    "def starts_with_e(country):\n",
    "    return country.startswith('E')\n",
    "\n",
    "# Use filter to get countries starting with 'E'\n",
    "countries_starting_with_e = filter(starts_with_e, countries)\n",
    "print(list(countries_starting_with_e))"
   ]
  },
  {
   "cell_type": "code",
   "execution_count": 37,
   "metadata": {},
   "outputs": [
    {
     "name": "stdout",
     "output_type": "stream",
     "text": [
      "Done!\n",
      "Function slow_function took 2.00 seconds\n"
     ]
    }
   ],
   "source": [
    "import time\n",
    "\n",
    "# The decorator\n",
    "def timer(func):\n",
    "    def wrapper(*args, **kwargs):\n",
    "        start_time = time.time()\n",
    "        result = func(*args, **kwargs)\n",
    "        end_time = time.time()\n",
    "        print(f\"Function {func.__name__} took {end_time - start_time:.2f} seconds\")\n",
    "        return result\n",
    "    return wrapper\n",
    "\n",
    "# Decorate a function\n",
    "@timer\n",
    "def slow_function():\n",
    "    time.sleep(2)\n",
    "    print(\"Done!\")\n",
    "\n",
    "# Call the decorated function\n",
    "slow_function()\n"
   ]
  },
  {
   "cell_type": "code",
   "execution_count": 38,
   "metadata": {},
   "outputs": [
    {
     "name": "stdout",
     "output_type": "stream",
     "text": [
      "220\n"
     ]
    }
   ],
   "source": [
    "# Chain map, filter, and reduce\n",
    "squared_numbers = map(lambda x: x**2, numbers)\n",
    "even_squared_numbers = filter(lambda x: x % 2 == 0, squared_numbers)\n",
    "sum_of_even_squared_numbers = reduce(lambda x, y: x + y, even_squared_numbers)\n",
    "\n",
    "print(sum_of_even_squared_numbers)"
   ]
  },
  {
   "cell_type": "code",
   "execution_count": 39,
   "metadata": {},
   "outputs": [],
   "source": [
    "# Declare a function called get_string_lists which takes a list as a parameter and then returns a list containing only string items.\n",
    "\n",
    "def get_string_lists(lst):\n",
    "    return [item for item in lst if isinstance(item, str)]"
   ]
  },
  {
   "cell_type": "code",
   "execution_count": null,
   "metadata": {},
   "outputs": [],
   "source": [
    "# Use reduce to sum all the numbers in the numbers list.\n"
   ]
  },
  {
   "cell_type": "code",
   "execution_count": 40,
   "metadata": {},
   "outputs": [
    {
     "name": "stdout",
     "output_type": "stream",
     "text": [
      "55\n"
     ]
    }
   ],
   "source": [
    "sum_of_numbers = reduce(lambda x, y: x + y, numbers)\n",
    "print(sum_of_numbers)"
   ]
  },
  {
   "cell_type": "code",
   "execution_count": 41,
   "metadata": {},
   "outputs": [
    {
     "name": "stdout",
     "output_type": "stream",
     "text": [
      "Estonia, Finland, Sweden, Denmark, Norway, and Iceland are north European countries\n"
     ]
    }
   ],
   "source": [
    "sentence = reduce(lambda x, y: x + ', ' + y, countries[:-1]) + ', and ' + countries[-1] + ' are north European countries'\n",
    "print(sentence)"
   ]
  },
  {
   "cell_type": "markdown",
   "metadata": {},
   "source": [
    "Declare a function called categorize_countries that returns a list of countries with some common pattern (you can find the countries list in this repository as countries.js(eg 'land', 'ia', 'island', 'stan')).\n"
   ]
  },
  {
   "cell_type": "code",
   "execution_count": 21,
   "metadata": {},
   "outputs": [
    {
     "name": "stdout",
     "output_type": "stream",
     "text": [
      "['Åland Islands', 'Bouvet Island', 'United States Minor Outlying Islands', 'Virgin Islands (British)', 'Virgin Islands (U.S.)', 'Cayman Islands', 'Christmas Island', 'Cocos (Keeling) Islands', 'Cook Islands', 'Falkland Islands (Malvinas)', 'Faroe Islands', 'Finland', 'Greenland', 'Heard Island and McDonald Islands', 'Iceland', 'Ireland', 'Marshall Islands', 'Netherlands', 'New Zealand', 'Norfolk Island', 'Northern Mariana Islands', 'Poland', 'Solomon Islands', 'South Georgia and the South Sandwich Islands', 'Swaziland', 'Switzerland', 'Thailand', 'Turks and Caicos Islands', 'United Kingdom of Great Britain and Northern Ireland']\n"
     ]
    }
   ],
   "source": [
    "from countries_data import countries\n",
    "\n",
    "def categorize_countries(pattern):\n",
    "    return [country['name'] for country in countries if pattern in country['name']]\n",
    "\n",
    "# Example usage:\n",
    "pattern = 'land'\n",
    "categorized_countries = categorize_countries(pattern)\n",
    "print(categorized_countries)"
   ]
  },
  {
   "cell_type": "markdown",
   "metadata": {},
   "source": [
    "Create a function returning a dictionary, where keys stand for starting letters of countries and values are the number of country names starting with that letter.\n"
   ]
  },
  {
   "cell_type": "code",
   "execution_count": 18,
   "metadata": {},
   "outputs": [
    {
     "name": "stdout",
     "output_type": "stream",
     "text": [
      "{'A': 15, 'Å': 1, 'B': 21, 'U': 8, 'V': 5, 'C': 23, 'D': 4, 'E': 7, 'F': 8, 'G': 16, 'H': 6, 'I': 9, 'J': 4, 'K': 7, 'L': 9, 'M': 23, 'N': 13, 'O': 1, 'P': 12, 'Q': 1, 'R': 5, 'S': 33, 'T': 14, 'W': 2, 'Y': 1, 'Z': 2}\n"
     ]
    }
   ],
   "source": [
    "from countries_data import countries\n",
    "def count_countries_by_starting_letter(countries):\n",
    "    country_count = {}\n",
    "    for country in countries:\n",
    "        starting_letter = country['name'][0]\n",
    "        if starting_letter in country_count:\n",
    "            country_count[starting_letter] += 1\n",
    "        else:\n",
    "            country_count[starting_letter] = 1\n",
    "    return country_count\n",
    "\n",
    "# Example usage:\n",
    "country_count = count_countries_by_starting_letter(countries)\n",
    "print(country_count)"
   ]
  },
  {
   "cell_type": "markdown",
   "metadata": {},
   "source": [
    "Declare a get_first_ten_countries function - it returns a list of first ten countries from the countries.js list in the data folder.\n"
   ]
  },
  {
   "cell_type": "code",
   "execution_count": 15,
   "metadata": {},
   "outputs": [
    {
     "name": "stdout",
     "output_type": "stream",
     "text": [
      "[{'name': 'Afghanistan', 'capital': 'Kabul', 'languages': ['Pashto', 'Uzbek', 'Turkmen'], 'population': 27657145, 'flag': 'https://restcountries.eu/data/afg.svg', 'currency': 'Afghan afghani'}, {'name': 'Åland Islands', 'capital': 'Mariehamn', 'languages': ['Swedish'], 'population': 28875, 'flag': 'https://restcountries.eu/data/ala.svg', 'currency': 'Euro'}, {'name': 'Albania', 'capital': 'Tirana', 'languages': ['Albanian'], 'population': 2886026, 'flag': 'https://restcountries.eu/data/alb.svg', 'currency': 'Albanian lek'}, {'name': 'Algeria', 'capital': 'Algiers', 'languages': ['Arabic'], 'population': 40400000, 'flag': 'https://restcountries.eu/data/dza.svg', 'currency': 'Algerian dinar'}, {'name': 'American Samoa', 'capital': 'Pago Pago', 'languages': ['English', 'Samoan'], 'population': 57100, 'flag': 'https://restcountries.eu/data/asm.svg', 'currency': 'United State Dollar'}, {'name': 'Andorra', 'capital': 'Andorra la Vella', 'languages': ['Catalan'], 'population': 78014, 'flag': 'https://restcountries.eu/data/and.svg', 'currency': 'Euro'}, {'name': 'Angola', 'capital': 'Luanda', 'languages': ['Portuguese'], 'population': 25868000, 'flag': 'https://restcountries.eu/data/ago.svg', 'currency': 'Angolan kwanza'}, {'name': 'Anguilla', 'capital': 'The Valley', 'languages': ['English'], 'population': 13452, 'flag': 'https://restcountries.eu/data/aia.svg', 'currency': 'East Caribbean dollar'}, {'name': 'Antarctica', 'capital': '', 'languages': ['English', 'Russian'], 'population': 1000, 'flag': 'https://restcountries.eu/data/ata.svg', 'currency': 'Australian dollar'}, {'name': 'Antigua and Barbuda', 'capital': \"Saint John's\", 'languages': ['English'], 'population': 86295, 'flag': 'https://restcountries.eu/data/atg.svg', 'currency': 'East Caribbean dollar'}]\n"
     ]
    }
   ],
   "source": [
    "def get_first_ten_countries():\n",
    "    return countries[:10]\n",
    "\n",
    "# Example usage:\n",
    "first_ten_countries = get_first_ten_countries()\n",
    "print(first_ten_countries)"
   ]
  },
  {
   "cell_type": "markdown",
   "metadata": {},
   "source": [
    "Declare a get_last_ten_countries function that returns the last ten countries in the countries list.\n"
   ]
  },
  {
   "cell_type": "code",
   "execution_count": 14,
   "metadata": {},
   "outputs": [
    {
     "name": "stdout",
     "output_type": "stream",
     "text": [
      "[{'name': 'Uruguay', 'capital': 'Montevideo', 'languages': ['Spanish'], 'population': 3480222, 'flag': 'https://restcountries.eu/data/ury.svg', 'currency': 'Uruguayan peso'}, {'name': 'Uzbekistan', 'capital': 'Tashkent', 'languages': ['Uzbek', 'Russian'], 'population': 31576400, 'flag': 'https://restcountries.eu/data/uzb.svg', 'currency': \"Uzbekistani so'm\"}, {'name': 'Vanuatu', 'capital': 'Port Vila', 'languages': ['Bislama', 'English', 'French'], 'population': 277500, 'flag': 'https://restcountries.eu/data/vut.svg', 'currency': 'Vanuatu vatu'}, {'name': 'Venezuela (Bolivarian Republic of)', 'capital': 'Caracas', 'languages': ['Spanish'], 'population': 31028700, 'flag': 'https://restcountries.eu/data/ven.svg', 'currency': 'Venezuelan bolívar'}, {'name': 'Viet Nam', 'capital': 'Hanoi', 'languages': ['Vietnamese'], 'population': 92700000, 'flag': 'https://restcountries.eu/data/vnm.svg', 'currency': 'Vietnamese đồng'}, {'name': 'Wallis and Futuna', 'capital': 'Mata-Utu', 'languages': ['French'], 'population': 11750, 'flag': 'https://restcountries.eu/data/wlf.svg', 'currency': 'CFP franc'}, {'name': 'Western Sahara', 'capital': 'El Aaiún', 'languages': ['Spanish'], 'population': 510713, 'flag': 'https://restcountries.eu/data/esh.svg', 'currency': 'Moroccan dirham'}, {'name': 'Yemen', 'capital': \"Sana'a\", 'languages': ['Arabic'], 'population': 27478000, 'flag': 'https://restcountries.eu/data/yem.svg', 'currency': 'Yemeni rial'}, {'name': 'Zambia', 'capital': 'Lusaka', 'languages': ['English'], 'population': 15933883, 'flag': 'https://restcountries.eu/data/zmb.svg', 'currency': 'Zambian kwacha'}, {'name': 'Zimbabwe', 'capital': 'Harare', 'languages': ['English', 'Shona', 'Northern Ndebele'], 'population': 14240168, 'flag': 'https://restcountries.eu/data/zwe.svg', 'currency': 'Botswana pula'}]\n"
     ]
    }
   ],
   "source": [
    "def get_last_ten_countries():\n",
    "    return countries[-10:]\n",
    "\n",
    "# Example usage:\n",
    "last_ten_countries = get_last_ten_countries()\n",
    "print(last_ten_countries)"
   ]
  },
  {
   "cell_type": "code",
   "execution_count": 13,
   "metadata": {},
   "outputs": [
    {
     "name": "stdout",
     "output_type": "stream",
     "text": [
      "[{'name': 'Uruguay', 'capital': 'Montevideo', 'languages': ['Spanish'], 'population': 3480222, 'flag': 'https://restcountries.eu/data/ury.svg', 'currency': 'Uruguayan peso'}, {'name': 'Uzbekistan', 'capital': 'Tashkent', 'languages': ['Uzbek', 'Russian'], 'population': 31576400, 'flag': 'https://restcountries.eu/data/uzb.svg', 'currency': \"Uzbekistani so'm\"}, {'name': 'Vanuatu', 'capital': 'Port Vila', 'languages': ['Bislama', 'English', 'French'], 'population': 277500, 'flag': 'https://restcountries.eu/data/vut.svg', 'currency': 'Vanuatu vatu'}, {'name': 'Venezuela (Bolivarian Republic of)', 'capital': 'Caracas', 'languages': ['Spanish'], 'population': 31028700, 'flag': 'https://restcountries.eu/data/ven.svg', 'currency': 'Venezuelan bolívar'}, {'name': 'Viet Nam', 'capital': 'Hanoi', 'languages': ['Vietnamese'], 'population': 92700000, 'flag': 'https://restcountries.eu/data/vnm.svg', 'currency': 'Vietnamese đồng'}, {'name': 'Wallis and Futuna', 'capital': 'Mata-Utu', 'languages': ['French'], 'population': 11750, 'flag': 'https://restcountries.eu/data/wlf.svg', 'currency': 'CFP franc'}, {'name': 'Western Sahara', 'capital': 'El Aaiún', 'languages': ['Spanish'], 'population': 510713, 'flag': 'https://restcountries.eu/data/esh.svg', 'currency': 'Moroccan dirham'}, {'name': 'Yemen', 'capital': \"Sana'a\", 'languages': ['Arabic'], 'population': 27478000, 'flag': 'https://restcountries.eu/data/yem.svg', 'currency': 'Yemeni rial'}, {'name': 'Zambia', 'capital': 'Lusaka', 'languages': ['English'], 'population': 15933883, 'flag': 'https://restcountries.eu/data/zmb.svg', 'currency': 'Zambian kwacha'}, {'name': 'Zimbabwe', 'capital': 'Harare', 'languages': ['English', 'Shona', 'Northern Ndebele'], 'population': 14240168, 'flag': 'https://restcountries.eu/data/zwe.svg', 'currency': 'Botswana pula'}]\n"
     ]
    }
   ],
   "source": [
    "from countries_data import countries\n",
    "def get_last_ten_countries():\n",
    "    return countries[-10:]\n",
    "\n",
    "# Example usage:\n",
    "last_ten_countries = get_last_ten_countries()\n",
    "print(last_ten_countries)"
   ]
  },
  {
   "cell_type": "code",
   "execution_count": 11,
   "metadata": {},
   "outputs": [],
   "source": [
    "# Create an __init__.py file in the current directory\n",
    "with open('__init__.py', 'w') as f:\n",
    "    f.write('# This is the __init__.py file for the current directory\\n')"
   ]
  },
  {
   "cell_type": "markdown",
   "metadata": {},
   "source": [
    "Sort countries by name, by capital, by population\n"
   ]
  },
  {
   "cell_type": "code",
   "execution_count": 22,
   "metadata": {},
   "outputs": [
    {
     "name": "stdout",
     "output_type": "stream",
     "text": [
      "Countries sorted by name:\n",
      "['Afghanistan', 'Albania', 'Algeria', 'American Samoa', 'Andorra', 'Angola', 'Anguilla', 'Antarctica', 'Antigua and Barbuda', 'Argentina', 'Armenia', 'Aruba', 'Australia', 'Austria', 'Azerbaijan', 'Bahamas', 'Bahrain', 'Bangladesh', 'Barbados', 'Belarus', 'Belgium', 'Belize', 'Benin', 'Bermuda', 'Bhutan', 'Bolivia (Plurinational State of)', 'Bonaire, Sint Eustatius and Saba', 'Bosnia and Herzegovina', 'Botswana', 'Bouvet Island', 'Brazil', 'British Indian Ocean Territory', 'Brunei Darussalam', 'Bulgaria', 'Burkina Faso', 'Burundi', 'Cabo Verde', 'Cambodia', 'Cameroon', 'Canada', 'Cayman Islands', 'Central African Republic', 'Chad', 'Chile', 'China', 'Christmas Island', 'Cocos (Keeling) Islands', 'Colombia', 'Comoros', 'Congo', 'Congo (Democratic Republic of the)', 'Cook Islands', 'Costa Rica', 'Croatia', 'Cuba', 'Curaçao', 'Cyprus', 'Czech Republic', \"Côte d'Ivoire\", 'Denmark', 'Djibouti', 'Dominica', 'Dominican Republic', 'Ecuador', 'Egypt', 'El Salvador', 'Equatorial Guinea', 'Eritrea', 'Estonia', 'Ethiopia', 'Falkland Islands (Malvinas)', 'Faroe Islands', 'Fiji', 'Finland', 'France', 'French Guiana', 'French Polynesia', 'French Southern Territories', 'Gabon', 'Gambia', 'Georgia', 'Germany', 'Ghana', 'Gibraltar', 'Greece', 'Greenland', 'Grenada', 'Guadeloupe', 'Guam', 'Guatemala', 'Guernsey', 'Guinea', 'Guinea-Bissau', 'Guyana', 'Haiti', 'Heard Island and McDonald Islands', 'Holy See', 'Honduras', 'Hong Kong', 'Hungary', 'Iceland', 'India', 'Indonesia', 'Iran (Islamic Republic of)', 'Iraq', 'Ireland', 'Isle of Man', 'Israel', 'Italy', 'Jamaica', 'Japan', 'Jersey', 'Jordan', 'Kazakhstan', 'Kenya', 'Kiribati', \"Korea (Democratic People's Republic of)\", 'Korea (Republic of)', 'Kuwait', 'Kyrgyzstan', \"Lao People's Democratic Republic\", 'Latvia', 'Lebanon', 'Lesotho', 'Liberia', 'Libya', 'Liechtenstein', 'Lithuania', 'Luxembourg', 'Macao', 'Macedonia (the former Yugoslav Republic of)', 'Madagascar', 'Malawi', 'Malaysia', 'Maldives', 'Mali', 'Malta', 'Marshall Islands', 'Martinique', 'Mauritania', 'Mauritius', 'Mayotte', 'Mexico', 'Micronesia (Federated States of)', 'Moldova (Republic of)', 'Monaco', 'Mongolia', 'Montenegro', 'Montserrat', 'Morocco', 'Mozambique', 'Myanmar', 'Namibia', 'Nauru', 'Nepal', 'Netherlands', 'New Caledonia', 'New Zealand', 'Nicaragua', 'Niger', 'Nigeria', 'Niue', 'Norfolk Island', 'Northern Mariana Islands', 'Norway', 'Oman', 'Pakistan', 'Palau', 'Palestine, State of', 'Panama', 'Papua New Guinea', 'Paraguay', 'Peru', 'Philippines', 'Pitcairn', 'Poland', 'Portugal', 'Puerto Rico', 'Qatar', 'Republic of Kosovo', 'Romania', 'Russian Federation', 'Rwanda', 'Réunion', 'Saint Barthélemy', 'Saint Helena, Ascension and Tristan da Cunha', 'Saint Kitts and Nevis', 'Saint Lucia', 'Saint Martin (French part)', 'Saint Pierre and Miquelon', 'Saint Vincent and the Grenadines', 'Samoa', 'San Marino', 'Sao Tome and Principe', 'Saudi Arabia', 'Senegal', 'Serbia', 'Seychelles', 'Sierra Leone', 'Singapore', 'Sint Maarten (Dutch part)', 'Slovakia', 'Slovenia', 'Solomon Islands', 'Somalia', 'South Africa', 'South Georgia and the South Sandwich Islands', 'South Sudan', 'Spain', 'Sri Lanka', 'Sudan', 'Suriname', 'Svalbard and Jan Mayen', 'Swaziland', 'Sweden', 'Switzerland', 'Syrian Arab Republic', 'Taiwan', 'Tajikistan', 'Tanzania, United Republic of', 'Thailand', 'Timor-Leste', 'Togo', 'Tokelau', 'Tonga', 'Trinidad and Tobago', 'Tunisia', 'Turkey', 'Turkmenistan', 'Turks and Caicos Islands', 'Tuvalu', 'Uganda', 'Ukraine', 'United Arab Emirates', 'United Kingdom of Great Britain and Northern Ireland', 'United States Minor Outlying Islands', 'United States of America', 'Uruguay', 'Uzbekistan', 'Vanuatu', 'Venezuela (Bolivarian Republic of)', 'Viet Nam', 'Virgin Islands (British)', 'Virgin Islands (U.S.)', 'Wallis and Futuna', 'Western Sahara', 'Yemen', 'Zambia', 'Zimbabwe', 'Åland Islands']\n",
      "\n",
      "Countries sorted by capital:\n",
      "['', '', '', '', '', 'Abu Dhabi', 'Abuja', 'Accra', 'Adamstown', 'Addis Ababa', 'Algiers', 'Alofi', 'Amman', 'Amsterdam', 'Andorra la Vella', 'Ankara', 'Antananarivo', 'Apia', 'Ashgabat', 'Asmara', 'Astana', 'Asunción', 'Athens', 'Avarua', 'Baghdad', 'Baku', 'Bamako', 'Bandar Seri Begawan', 'Bangkok', 'Bangui', 'Banjul', 'Basse-Terre', 'Basseterre', 'Beijing', 'Beirut', 'Belgrade', 'Belmopan', 'Berlin', 'Bern', 'Bishkek', 'Bissau', 'Bogotá', 'Brasília', 'Bratislava', 'Brazzaville', 'Bridgetown', 'Brussels', 'Bucharest', 'Budapest', 'Buenos Aires', 'Bujumbura', 'Cairo', 'Canberra', 'Caracas', 'Castries', 'Cayenne', 'Charlotte Amalie', 'Chișinău', 'City of San Marino', 'City of Victoria', 'Cockburn Town', 'Colombo', 'Conakry', 'Copenhagen', 'Dakar', 'Damascus', 'Dhaka', 'Diego Garcia', 'Dili', 'Djibouti', 'Dodoma', 'Doha', 'Douglas', 'Dublin', 'Dushanbe', 'El Aaiún', 'Fakaofo', 'Flying Fish Cove', 'Fort-de-France', 'Freetown', 'Funafuti', 'Gaborone', 'George Town', 'Georgetown', 'Gibraltar', 'Guatemala City', 'Gustavia', 'Hagåtña', 'Hamilton', 'Hanoi', 'Harare', 'Havana', 'Helsinki', 'Honiara', 'Islamabad', 'Jakarta', 'Jamestown', 'Jerusalem', 'Juba', 'Kabul', 'Kampala', 'Kathmandu', 'Khartoum', 'Kiev', 'Kigali', 'King Edward Point', 'Kingston', 'Kingston', 'Kingstown', 'Kinshasa', 'Kralendijk', 'Kuala Lumpur', 'Kuwait City', 'Libreville', 'Lilongwe', 'Lima', 'Lisbon', 'Ljubljana', 'Lobamba', 'Lomé', 'London', 'Longyearbyen', 'Luanda', 'Lusaka', 'Luxembourg', 'Madrid', 'Majuro', 'Malabo', 'Malé', 'Mamoudzou', 'Managua', 'Manama', 'Manila', 'Maputo', 'Mariehamn', 'Marigot', 'Maseru', 'Mata-Utu', 'Mexico City', 'Minsk', 'Mogadishu', 'Monaco', 'Monrovia', 'Montevideo', 'Moroni', 'Moscow', 'Muscat', \"N'Djamena\", 'Nairobi', 'Nassau', 'Naypyidaw', 'New Delhi', 'Ngerulmud', 'Niamey', 'Nicosia', 'Nouakchott', 'Nouméa', \"Nuku'alofa\", 'Nuuk', 'Oranjestad', 'Oslo', 'Ottawa', 'Ouagadougou', 'Pago Pago', 'Palikir', 'Panama City', 'Papeetē', 'Paramaribo', 'Paris', 'Philipsburg', 'Phnom Penh', 'Plymouth', 'Podgorica', 'Port Louis', 'Port Moresby', 'Port Vila', 'Port of Spain', 'Port-au-Prince', 'Port-aux-Français', 'Porto-Novo', 'Prague', 'Praia', 'Pretoria', 'Pristina', 'Pyongyang', 'Quito', 'Rabat', 'Ramallah', 'Reykjavík', 'Riga', 'Riyadh', 'Road Town', 'Rome', 'Rome', 'Roseau', 'Saint Helier', \"Saint John's\", 'Saint-Denis', 'Saint-Pierre', 'Saipan', 'San José', 'San Juan', 'San Salvador', \"Sana'a\", 'Santiago', 'Santo Domingo', 'Sarajevo', 'Seoul', 'Singapore', 'Skopje', 'Sofia', 'South Tarawa', \"St. George's\", 'St. Peter Port', 'Stanley', 'Stockholm', 'Sucre', 'Suva', 'São Tomé', 'Taipei', 'Tallinn', 'Tashkent', 'Tbilisi', 'Tegucigalpa', 'Tehran', 'The Valley', 'Thimphu', 'Tirana', 'Tokyo', 'Tripoli', 'Tunis', 'Tórshavn', 'Ulan Bator', 'Vaduz', 'Valletta', 'Victoria', 'Vienna', 'Vientiane', 'Vilnius', 'Warsaw', 'Washington, D.C.', 'Wellington', 'West Island', 'Willemstad', 'Windhoek', 'Yamoussoukro', 'Yaoundé', 'Yaren', 'Yerevan', 'Zagreb']\n",
      "\n",
      "Countries sorted by population:\n",
      "[0, 0, 30, 56, 140, 300, 451, 550, 1000, 1411, 1470, 2072, 2302, 2562, 2563, 3000, 4255, 4922, 6069, 9417, 10084, 10640, 11750, 13452, 17408, 17950, 18100, 28514, 28875, 31458, 33005, 33140, 36979, 37623, 38247, 38400, 46204, 49376, 54880, 55847, 56940, 57100, 58238, 61954, 62999, 71293, 78014, 84497, 86295, 91400, 100800, 102800, 103252, 103328, 107394, 109991, 113400, 114743, 154843, 184200, 186000, 187356, 194899, 226915, 254541, 268767, 271800, 277500, 285000, 334300, 344023, 370300, 378040, 378243, 400132, 411900, 425384, 510713, 531239, 541638, 576200, 621810, 642000, 649100, 746900, 775620, 806153, 840974, 847000, 867000, 900000, 1132657, 1167242, 1222442, 1262879, 1315944, 1349667, 1404900, 1547777, 1733842, 1802278, 1882450, 1894194, 1961600, 2058539, 2064188, 2141206, 2324388, 2587564, 2723246, 2872294, 2886026, 2994400, 3093100, 3474182, 3480222, 3531159, 3553100, 3718678, 3720400, 3814672, 4183658, 4190669, 4420133, 4615000, 4682467, 4697854, 4741000, 4751120, 4890379, 4998000, 5223256, 5352000, 5426252, 5491817, 5535000, 5717014, 5988000, 6047800, 6262703, 6378000, 6385000, 6492400, 6520675, 6854536, 7075641, 7076372, 7143000, 7153784, 7324300, 8083700, 8341600, 8527400, 8576532, 8593600, 8725931, 9498700, 9531712, 9730500, 9823000, 9856000, 9894888, 10075045, 10114505, 10374822, 10558524, 10653654, 10858018, 10985059, 11078033, 11079000, 11154400, 11239004, 11319511, 11553188, 12131000, 12947000, 14240168, 14497000, 14799859, 15626444, 15933883, 16176133, 16545799, 16832910, 17019800, 17753200, 18135000, 18191900, 18564000, 19034397, 19861408, 20715000, 20966000, 22434363, 22671331, 22709892, 23503349, 24117360, 25281000, 25868000, 26423700, 27478000, 27657145, 27670174, 28431500, 31028700, 31405416, 31488700, 31576400, 32248200, 33337529, 33860700, 36155487, 37883543, 38437239, 39598700, 40400000, 42692393, 43590400, 46438422, 47251000, 48759958, 50801405, 51419420, 55155000, 55653654, 60665551, 65110000, 65327652, 66710000, 78741053, 79369900, 81770900, 85026000, 91290000, 92206005, 92700000, 103279800, 122273473, 126960000, 146599183, 161006790, 186988000, 194125062, 206135893, 258705000, 323947000, 1295210000, 1377422166]\n"
     ]
    }
   ],
   "source": [
    "# Sort countries by name\n",
    "sorted_by_name = sorted(countries, key=lambda x: x['name'])\n",
    "print(\"Countries sorted by name:\")\n",
    "print([country['name'] for country in sorted_by_name])\n",
    "\n",
    "# Sort countries by capital\n",
    "sorted_by_capital = sorted(countries, key=lambda x: x['capital'])\n",
    "print(\"\\nCountries sorted by capital:\")\n",
    "print([country['capital'] for country in sorted_by_capital])\n",
    "\n",
    "# Sort countries by population\n",
    "sorted_by_population = sorted(countries, key=lambda x: x['population'])\n",
    "print(\"\\nCountries sorted by population:\")\n",
    "print([country['population'] for country in sorted_by_population])"
   ]
  },
  {
   "cell_type": "code",
   "execution_count": 29,
   "metadata": {},
   "outputs": [
    {
     "name": "stdout",
     "output_type": "stream",
     "text": [
      "The ten most spoken languages by location:\n",
      "English: 91 countries\n",
      "French: 45 countries\n",
      "Arabic: 25 countries\n",
      "Spanish: 24 countries\n",
      "Portuguese: 9 countries\n",
      "Russian: 9 countries\n",
      "Dutch: 8 countries\n",
      "German: 7 countries\n",
      "Chinese: 5 countries\n",
      "Serbian: 4 countries\n"
     ]
    }
   ],
   "source": [
    "# Sort out the ten most spoken languages by location.\n",
    "\n",
    "from collections import Counter\n",
    "\n",
    "# Flatten the list of languages from all countries\n",
    "all_languages = [language for country in countries for language in country['languages']]\n",
    "\n",
    "# Count the occurrences of each language\n",
    "language_counts = Counter(all_languages)\n",
    "\n",
    "# Get the ten most common languages\n",
    "most_common_languages = language_counts.most_common(10)\n",
    "\n",
    "print(\"The ten most spoken languages by location:\")\n",
    "for language, count in most_common_languages:\n",
    "    print(f\"{language}: {count} countries\")"
   ]
  },
  {
   "cell_type": "code",
   "execution_count": 30,
   "metadata": {},
   "outputs": [
    {
     "name": "stdout",
     "output_type": "stream",
     "text": [
      "The ten most populated countries:\n",
      "China: 1377422166\n",
      "India: 1295210000\n",
      "United States of America: 323947000\n",
      "Indonesia: 258705000\n",
      "Brazil: 206135893\n",
      "Pakistan: 194125062\n",
      "Nigeria: 186988000\n",
      "Bangladesh: 161006790\n",
      "Russian Federation: 146599183\n",
      "Japan: 126960000\n"
     ]
    }
   ],
   "source": [
    "# Sort countries by population in descending order\n",
    "sorted_by_population_desc = sorted(countries, key=lambda x: x['population'], reverse=True)\n",
    "\n",
    "# Get the ten most populated countries\n",
    "ten_most_populated_countries = sorted_by_population_desc[:10]\n",
    "\n",
    "print(\"The ten most populated countries:\")\n",
    "for country in ten_most_populated_countries:\n",
    "    print(f\"{country['name']}: {country['population']}\")"
   ]
  }
 ],
 "metadata": {
  "kernelspec": {
   "display_name": "Python 3",
   "language": "python",
   "name": "python3"
  },
  "language_info": {
   "codemirror_mode": {
    "name": "ipython",
    "version": 3
   },
   "file_extension": ".py",
   "mimetype": "text/x-python",
   "name": "python",
   "nbconvert_exporter": "python",
   "pygments_lexer": "ipython3",
   "version": "3.12.4"
  }
 },
 "nbformat": 4,
 "nbformat_minor": 2
}
